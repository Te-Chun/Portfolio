{
 "cells": [
  {
   "cell_type": "markdown",
   "id": "d5734d6e-97b1-49bf-9fe1-322fdaddff98",
   "metadata": {},
   "source": [
    "<h1>Data Analysis and Predictions on Fitness Survey : EDA | ML </h1>"
   ]
  },
  {
   "cell_type": "markdown",
   "id": "3e36cbbd-4160-470e-8e53-3497108ebd92",
   "metadata": {},
   "source": [
    "<h2>Table of Content</h2>\n",
    "<ul>\n",
    "  <li>Introduction</li>\n",
    "  <li>What to Expect?</li>\n",
    "  <li>Overview of the Dataset</li>\n",
    "  <li>Exploratory Data Analysis</li>\n",
    "  <li>Data Preprocessing</li>\n",
    "  <li>Model Training</li>\n",
    "  <li>Predictions and Evaluation</li>\n",
    "  <li>Recap & Key Insights</li>\n",
    "</ul>"
   ]
  },
  {
   "cell_type": "markdown",
   "id": "f84f5f14-e208-424f-a978-eb51edfd45ce",
   "metadata": {},
   "source": [
    "<h2>Introduction</h2>\n",
    "<ul>\n",
    "  <li>This fitness survey contains a wealth of information. Our goal is to use this data to analyze the impact of variables such as age, gender, and others on fitness equipment purchases. Additionally, we aim to use this dataset to predict whether a member will purchase fitness equipment or not.</li>\n",
    "</ul>"
   ]
  },
  {
   "cell_type": "markdown",
   "id": "4d6fba47-1181-4bb3-8860-fd9e2719efdc",
   "metadata": {},
   "source": [
    "<h2>What to Expect?</h2>\n",
    "<ul>\n",
    "  <li>Which age group has the highest percentage of fitness equipment purchases?</li>\n",
    "  <li>Is there a difference in the percentage of fitness equipment purchases between genders?</li>\n",
    "  <li>At what time do most people tend to exercise?</li>\n",
    "</ul>"
   ]
  },
  {
   "cell_type": "markdown",
   "id": "37441797-610d-48f0-8360-f5d2eca8c126",
   "metadata": {},
   "source": [
    "<h2>Overview of the Dataset</h2>"
   ]
  },
  {
   "cell_type": "code",
   "execution_count": 1,
   "id": "934f2d5d-31ea-41c8-8a3b-679c440992b3",
   "metadata": {},
   "outputs": [],
   "source": [
    "import pandas as pd\n",
    "import numpy as np\n",
    "import matplotlib.pyplot as plt\n",
    "import seaborn as sns"
   ]
  },
  {
   "cell_type": "code",
   "execution_count": 2,
   "id": "f1e7c23c-0019-4ab0-b1f6-f72b03ad4a66",
   "metadata": {},
   "outputs": [
    {
     "data": {
      "text/html": [
       "<div>\n",
       "<style scoped>\n",
       "    .dataframe tbody tr th:only-of-type {\n",
       "        vertical-align: middle;\n",
       "    }\n",
       "\n",
       "    .dataframe tbody tr th {\n",
       "        vertical-align: top;\n",
       "    }\n",
       "\n",
       "    .dataframe thead th {\n",
       "        text-align: right;\n",
       "    }\n",
       "</style>\n",
       "<table border=\"1\" class=\"dataframe\">\n",
       "  <thead>\n",
       "    <tr style=\"text-align: right;\">\n",
       "      <th></th>\n",
       "      <th>Timestamp</th>\n",
       "      <th>Your name</th>\n",
       "      <th>Your gender</th>\n",
       "      <th>Your age</th>\n",
       "      <th>How important is exercise to you ?</th>\n",
       "      <th>How do you describe your current level of fitness ?</th>\n",
       "      <th>How often do you exercise?</th>\n",
       "      <th>What barriers, if any, prevent you from exercising more regularly?           (Please select all that apply)</th>\n",
       "      <th>What form(s) of exercise do you currently participate in ?                        (Please select all that apply)</th>\n",
       "      <th>Do you exercise ___________ ?</th>\n",
       "      <th>What time if the day do you prefer to exercise?</th>\n",
       "      <th>How long do you spend exercising per day ?</th>\n",
       "      <th>Would you say you eat a healthy balanced diet ?</th>\n",
       "      <th>What prevents you from eating a healthy balanced diet, If any?                         (Please select all that apply)</th>\n",
       "      <th>How healthy do you consider yourself?</th>\n",
       "      <th>Have you ever recommended your friends to follow a fitness routine?</th>\n",
       "      <th>Have you ever purchased a fitness equipment?</th>\n",
       "      <th>What motivates you to exercise?         (Please select all that applies )</th>\n",
       "    </tr>\n",
       "  </thead>\n",
       "  <tbody>\n",
       "    <tr>\n",
       "      <th>0</th>\n",
       "      <td>2019/07/03 11:48:07 PM GMT+5:30</td>\n",
       "      <td>Parkavi</td>\n",
       "      <td>Female</td>\n",
       "      <td>19 to 25</td>\n",
       "      <td>2</td>\n",
       "      <td>Good</td>\n",
       "      <td>Never</td>\n",
       "      <td>I don't have enough time;I can't stay motivated</td>\n",
       "      <td>I don't really exercise</td>\n",
       "      <td>I don't really exercise</td>\n",
       "      <td>Early morning</td>\n",
       "      <td>I don't really exercise</td>\n",
       "      <td>Not always</td>\n",
       "      <td>Ease of access to fast food;Temptation and cra...</td>\n",
       "      <td>3</td>\n",
       "      <td>Yes</td>\n",
       "      <td>No</td>\n",
       "      <td>I'm sorry ... I'm not really interested in exe...</td>\n",
       "    </tr>\n",
       "    <tr>\n",
       "      <th>1</th>\n",
       "      <td>2019/07/03 11:51:22 PM GMT+5:30</td>\n",
       "      <td>Nithilaa</td>\n",
       "      <td>Female</td>\n",
       "      <td>19 to 25</td>\n",
       "      <td>4</td>\n",
       "      <td>Very good</td>\n",
       "      <td>Never</td>\n",
       "      <td>I don't have enough time;I'll become too tired</td>\n",
       "      <td>Walking or jogging;Swimming</td>\n",
       "      <td>With a group</td>\n",
       "      <td>Early morning</td>\n",
       "      <td>I don't really exercise</td>\n",
       "      <td>Not always</td>\n",
       "      <td>Ease of access to fast food;Temptation and cra...</td>\n",
       "      <td>4</td>\n",
       "      <td>Yes</td>\n",
       "      <td>No</td>\n",
       "      <td>I want to be fit;I want to be flexible;I want ...</td>\n",
       "    </tr>\n",
       "    <tr>\n",
       "      <th>2</th>\n",
       "      <td>2019/07/03 11:56:28 PM GMT+5:30</td>\n",
       "      <td>Karunya v</td>\n",
       "      <td>Female</td>\n",
       "      <td>15 to 18</td>\n",
       "      <td>3</td>\n",
       "      <td>Good</td>\n",
       "      <td>1 to 2 times a week</td>\n",
       "      <td>I can't stay motivated</td>\n",
       "      <td>Walking or jogging</td>\n",
       "      <td>Alone</td>\n",
       "      <td>Early morning</td>\n",
       "      <td>30 minutes</td>\n",
       "      <td>Not always</td>\n",
       "      <td>Temptation and cravings</td>\n",
       "      <td>4</td>\n",
       "      <td>Yes</td>\n",
       "      <td>Yes</td>\n",
       "      <td>I want to be fit</td>\n",
       "    </tr>\n",
       "    <tr>\n",
       "      <th>3</th>\n",
       "      <td>2019/07/04 5:43:35 AM GMT+5:30</td>\n",
       "      <td>Anusha</td>\n",
       "      <td>Female</td>\n",
       "      <td>15 to 18</td>\n",
       "      <td>4</td>\n",
       "      <td>Good</td>\n",
       "      <td>3 to 4 times a week</td>\n",
       "      <td>I don't have enough time</td>\n",
       "      <td>Walking or jogging;Gym;Lifting weights</td>\n",
       "      <td>Alone</td>\n",
       "      <td>Evening</td>\n",
       "      <td>1 hour</td>\n",
       "      <td>Yes</td>\n",
       "      <td>Temptation and cravings</td>\n",
       "      <td>4</td>\n",
       "      <td>Yes</td>\n",
       "      <td>No</td>\n",
       "      <td>I want to be fit;I want to lose weight</td>\n",
       "    </tr>\n",
       "    <tr>\n",
       "      <th>4</th>\n",
       "      <td>2019/07/04 5:44:29 AM GMT+5:30</td>\n",
       "      <td>Nikkitha</td>\n",
       "      <td>Female</td>\n",
       "      <td>19 to 25</td>\n",
       "      <td>3</td>\n",
       "      <td>Unfit</td>\n",
       "      <td>Never</td>\n",
       "      <td>I can't stay motivated</td>\n",
       "      <td>I don't really exercise</td>\n",
       "      <td>I don't really exercise</td>\n",
       "      <td>Evening</td>\n",
       "      <td>I don't really exercise</td>\n",
       "      <td>Yes</td>\n",
       "      <td>Ease of access to fast food;Temptation and cra...</td>\n",
       "      <td>4</td>\n",
       "      <td>Yes</td>\n",
       "      <td>No</td>\n",
       "      <td>I want to be fit</td>\n",
       "    </tr>\n",
       "  </tbody>\n",
       "</table>\n",
       "</div>"
      ],
      "text/plain": [
       "                         Timestamp Your name  Your gender  Your age   \\\n",
       "0  2019/07/03 11:48:07 PM GMT+5:30    Parkavi       Female  19 to 25   \n",
       "1  2019/07/03 11:51:22 PM GMT+5:30   Nithilaa       Female  19 to 25   \n",
       "2  2019/07/03 11:56:28 PM GMT+5:30  Karunya v       Female  15 to 18   \n",
       "3   2019/07/04 5:43:35 AM GMT+5:30    Anusha        Female  15 to 18   \n",
       "4   2019/07/04 5:44:29 AM GMT+5:30   Nikkitha       Female  19 to 25   \n",
       "\n",
       "   How important is exercise to you ?  \\\n",
       "0                                   2   \n",
       "1                                   4   \n",
       "2                                   3   \n",
       "3                                   4   \n",
       "4                                   3   \n",
       "\n",
       "  How do you describe your current level of fitness ?  \\\n",
       "0                                               Good    \n",
       "1                                          Very good    \n",
       "2                                               Good    \n",
       "3                                               Good    \n",
       "4                                              Unfit    \n",
       "\n",
       "  How often do you exercise?  \\\n",
       "0                      Never   \n",
       "1                      Never   \n",
       "2        1 to 2 times a week   \n",
       "3        3 to 4 times a week   \n",
       "4                      Never   \n",
       "\n",
       "  What barriers, if any, prevent you from exercising more regularly?           (Please select all that apply)  \\\n",
       "0    I don't have enough time;I can't stay motivated                                                            \n",
       "1     I don't have enough time;I'll become too tired                                                            \n",
       "2                             I can't stay motivated                                                            \n",
       "3                           I don't have enough time                                                            \n",
       "4                             I can't stay motivated                                                            \n",
       "\n",
       "  What form(s) of exercise do you currently participate in ?                        (Please select all that apply)  \\\n",
       "0                            I don't really exercise                                                                 \n",
       "1                        Walking or jogging;Swimming                                                                 \n",
       "2                                 Walking or jogging                                                                 \n",
       "3             Walking or jogging;Gym;Lifting weights                                                                 \n",
       "4                            I don't really exercise                                                                 \n",
       "\n",
       "  Do you exercise ___________ ?  \\\n",
       "0       I don't really exercise   \n",
       "1                  With a group   \n",
       "2                         Alone   \n",
       "3                         Alone   \n",
       "4       I don't really exercise   \n",
       "\n",
       "  What time if the day do you prefer to exercise?  \\\n",
       "0                                   Early morning   \n",
       "1                                   Early morning   \n",
       "2                                   Early morning   \n",
       "3                                         Evening   \n",
       "4                                         Evening   \n",
       "\n",
       "  How long do you spend exercising per day ?  \\\n",
       "0                    I don't really exercise   \n",
       "1                    I don't really exercise   \n",
       "2                                 30 minutes   \n",
       "3                                     1 hour   \n",
       "4                    I don't really exercise   \n",
       "\n",
       "  Would you say you eat a healthy balanced diet ?  \\\n",
       "0                                      Not always   \n",
       "1                                      Not always   \n",
       "2                                      Not always   \n",
       "3                                             Yes   \n",
       "4                                             Yes   \n",
       "\n",
       "  What prevents you from eating a healthy balanced diet, If any?                         (Please select all that apply)  \\\n",
       "0  Ease of access to fast food;Temptation and cra...                                                                      \n",
       "1  Ease of access to fast food;Temptation and cra...                                                                      \n",
       "2                            Temptation and cravings                                                                      \n",
       "3                            Temptation and cravings                                                                      \n",
       "4  Ease of access to fast food;Temptation and cra...                                                                      \n",
       "\n",
       "   How healthy do you consider yourself?  \\\n",
       "0                                      3   \n",
       "1                                      4   \n",
       "2                                      4   \n",
       "3                                      4   \n",
       "4                                      4   \n",
       "\n",
       "  Have you ever recommended your friends to follow a fitness routine?  \\\n",
       "0                                                Yes                    \n",
       "1                                                Yes                    \n",
       "2                                                Yes                    \n",
       "3                                                Yes                    \n",
       "4                                                Yes                    \n",
       "\n",
       "  Have you ever purchased a fitness equipment?  \\\n",
       "0                                           No   \n",
       "1                                           No   \n",
       "2                                          Yes   \n",
       "3                                           No   \n",
       "4                                           No   \n",
       "\n",
       "  What motivates you to exercise?         (Please select all that applies )  \n",
       "0  I'm sorry ... I'm not really interested in exe...                         \n",
       "1  I want to be fit;I want to be flexible;I want ...                         \n",
       "2                                   I want to be fit                         \n",
       "3             I want to be fit;I want to lose weight                         \n",
       "4                                   I want to be fit                         "
      ]
     },
     "execution_count": 2,
     "metadata": {},
     "output_type": "execute_result"
    }
   ],
   "source": [
    "data = pd.read_csv('Fitness Analysis(raw data).csv')\n",
    "data.head()"
   ]
  },
  {
   "cell_type": "code",
   "execution_count": 3,
   "id": "718b2428-123f-40d7-b08c-bab8629c50d7",
   "metadata": {},
   "outputs": [
    {
     "name": "stdout",
     "output_type": "stream",
     "text": [
      "(545, 18)\n",
      "\n",
      "\n",
      "<class 'pandas.core.frame.DataFrame'>\n",
      "RangeIndex: 545 entries, 0 to 544\n",
      "Data columns (total 18 columns):\n",
      " #   Column                                                                                                                 Non-Null Count  Dtype \n",
      "---  ------                                                                                                                 --------------  ----- \n",
      " 0   Timestamp                                                                                                              545 non-null    object\n",
      " 1   Your name                                                                                                              545 non-null    object\n",
      " 2   Your gender                                                                                                            545 non-null    object\n",
      " 3   Your age                                                                                                               545 non-null    object\n",
      " 4   How important is exercise to you ?                                                                                     545 non-null    int64 \n",
      " 5   How do you describe your current level of fitness ?                                                                    545 non-null    object\n",
      " 6   How often do you exercise?                                                                                             545 non-null    object\n",
      " 7   What barriers, if any, prevent you from exercising more regularly?           (Please select all that apply)            545 non-null    object\n",
      " 8   What form(s) of exercise do you currently participate in ?                        (Please select all that apply)       545 non-null    object\n",
      " 9   Do you exercise ___________ ?                                                                                          545 non-null    object\n",
      " 10  What time if the day do you prefer to exercise?                                                                        545 non-null    object\n",
      " 11  How long do you spend exercising per day ?                                                                             545 non-null    object\n",
      " 12  Would you say you eat a healthy balanced diet ?                                                                        545 non-null    object\n",
      " 13  What prevents you from eating a healthy balanced diet, If any?                         (Please select all that apply)  545 non-null    object\n",
      " 14  How healthy do you consider yourself?                                                                                  545 non-null    int64 \n",
      " 15  Have you ever recommended your friends to follow a fitness routine?                                                    545 non-null    object\n",
      " 16  Have you ever purchased a fitness equipment?                                                                           545 non-null    object\n",
      " 17  What motivates you to exercise?         (Please select all that applies )                                              545 non-null    object\n",
      "dtypes: int64(2), object(16)\n",
      "memory usage: 76.8+ KB\n",
      "None\n",
      "\n",
      "\n",
      "Timestamp                                                                                                                0\n",
      "Your name                                                                                                                0\n",
      "Your gender                                                                                                              0\n",
      "Your age                                                                                                                 0\n",
      "How important is exercise to you ?                                                                                       0\n",
      "How do you describe your current level of fitness ?                                                                      0\n",
      "How often do you exercise?                                                                                               0\n",
      "What barriers, if any, prevent you from exercising more regularly?           (Please select all that apply)              0\n",
      "What form(s) of exercise do you currently participate in ?                        (Please select all that apply)         0\n",
      "Do you exercise ___________ ?                                                                                            0\n",
      "What time if the day do you prefer to exercise?                                                                          0\n",
      "How long do you spend exercising per day ?                                                                               0\n",
      "Would you say you eat a healthy balanced diet ?                                                                          0\n",
      "What prevents you from eating a healthy balanced diet, If any?                         (Please select all that apply)    0\n",
      "How healthy do you consider yourself?                                                                                    0\n",
      "Have you ever recommended your friends to follow a fitness routine?                                                      0\n",
      "Have you ever purchased a fitness equipment?                                                                             0\n",
      "What motivates you to exercise?         (Please select all that applies )                                                0\n",
      "dtype: int64\n",
      "\n",
      "\n",
      "Are there duplicate entries?： False\n"
     ]
    }
   ],
   "source": [
    "# Data observation\n",
    "print(data.shape)\n",
    "print(\"\\n\")\n",
    "print(data.info())\n",
    "print(\"\\n\")\n",
    "missing_values = data.isnull().sum()\n",
    "print(missing_values)\n",
    "print(\"\\n\")\n",
    "has_duplicates = data.duplicated().any()  \n",
    "print(\"Are there duplicate entries?：\", has_duplicates)"
   ]
  },
  {
   "cell_type": "markdown",
   "id": "308bc9de-681a-4337-a847-91fc4c8a9510",
   "metadata": {},
   "source": [
    "<h3>Check the unique value in each columns</h3>"
   ]
  },
  {
   "cell_type": "code",
   "execution_count": 4,
   "id": "0fa51ec1-ebec-4d41-ab8c-8b5f9aa061f5",
   "metadata": {},
   "outputs": [
    {
     "name": "stdout",
     "output_type": "stream",
     "text": [
      "Timestamp                                                                                                                545\n",
      "Your name                                                                                                                517\n",
      "Your gender                                                                                                                2\n",
      "Your age                                                                                                                   5\n",
      "How important is exercise to you ?                                                                                         5\n",
      "How do you describe your current level of fitness ?                                                                        5\n",
      "How often do you exercise?                                                                                                 6\n",
      "What barriers, if any, prevent you from exercising more regularly?           (Please select all that apply)               44\n",
      "What form(s) of exercise do you currently participate in ?                        (Please select all that apply)          54\n",
      "Do you exercise ___________ ?                                                                                              5\n",
      "What time if the day do you prefer to exercise?                                                                            3\n",
      "How long do you spend exercising per day ?                                                                                 5\n",
      "Would you say you eat a healthy balanced diet ?                                                                            3\n",
      "What prevents you from eating a healthy balanced diet, If any?                         (Please select all that apply)     22\n",
      "How healthy do you consider yourself?                                                                                      5\n",
      "Have you ever recommended your friends to follow a fitness routine?                                                        2\n",
      "Have you ever purchased a fitness equipment?                                                                               2\n",
      "What motivates you to exercise?         (Please select all that applies )                                                 68\n",
      "dtype: int64\n"
     ]
    }
   ],
   "source": [
    "unique_counts = data.nunique()\n",
    "print(unique_counts)"
   ]
  },
  {
   "cell_type": "markdown",
   "id": "a0048d07-483f-413e-8f76-1ed04fe6eac7",
   "metadata": {},
   "source": [
    "<h3>Let's check the columns that include a large amount of unique values</h3>"
   ]
  },
  {
   "cell_type": "code",
   "execution_count": 5,
   "id": "b8c875e0-79c9-49f4-8403-5e645a59271a",
   "metadata": {},
   "outputs": [
    {
     "data": {
      "text/plain": [
       "array([\"I don't have enough time;I can't stay motivated\",\n",
       "       \"I don't have enough time;I'll become too tired\",\n",
       "       \"I can't stay motivated\", \"I don't have enough time\",\n",
       "       'I exercise regularly with no barriers',\n",
       "       \"I don't really enjoy exercising\",\n",
       "       \"I can't stay motivated;I don't really enjoy exercising\",\n",
       "       \"I don't have enough time;I can't stay motivated;I'll become too tired;I don't really enjoy exercising\",\n",
       "       \"I don't have enough time;I exercise regularly with no barriers\",\n",
       "       \"I don't have enough time;I can't stay motivated;I'll become too tired;Less stamina\",\n",
       "       \"I don't have enough time;I'll become too tired;I have an injury\",\n",
       "       \"I don't have enough time;I'll become too tired;I don't really enjoy exercising\",\n",
       "       \"I'll become too tired\",\n",
       "       \"I don't have enough time;I can't stay motivated;I'll become too tired;I have an injury\",\n",
       "       \"I'll become too tired;I don't really enjoy exercising\",\n",
       "       \"I can't stay motivated;I'll become too tired\",\n",
       "       \"I don't have enough time;I can't stay motivated;I'll become too tired\",\n",
       "       \"I don't have enough time;I can't stay motivated;I am not regular in anything\",\n",
       "       \"I don't have enough time;I don't really enjoy exercising\",\n",
       "       \"I don't have enough time;I can't stay motivated;I don't really enjoy exercising\",\n",
       "       'I am lazy', 'I have an injury',\n",
       "       \"I can't stay motivated;Laziness \",\n",
       "       \"I'll become too tired;I have an injury\",\n",
       "       \"I don't have enough time;I can't stay motivated;I have an injury\",\n",
       "       \"I'm too lazy\", 'Laziness', 'Lazy',\n",
       "       \"I don't have enough time;I can't stay motivated;I'll become too tired;I exercise regularly with no barriers\",\n",
       "       \"I don't have enough time;I have an injury\", 'Laziness ',\n",
       "       \"I don't have enough time;I have an injury;No gym near me\",\n",
       "       \"I don't have enough time;Travel\", 'I have an injury;Allergies',\n",
       "       'I always busy with my regular works',\n",
       "       \"I can't stay motivated;I'll become too tired;I don't really enjoy exercising\",\n",
       "       \"My friends don't come \",\n",
       "       \"I can't stay motivated;Laziness mostly \",\n",
       "       \"I can't stay motivated;I'll become too tired;I have an injury\",\n",
       "       \"I can't stay motivated;I have an injury\",\n",
       "       \"I can't stay motivated;I exercise regularly with no barriers\",\n",
       "       'Travel time I skip',\n",
       "       \"I'll become too tired;I have an injury;Laziness\",\n",
       "       \"I'll become too tired;I have an injury;I don't really enjoy exercising\"],\n",
       "      dtype=object)"
      ]
     },
     "execution_count": 5,
     "metadata": {},
     "output_type": "execute_result"
    }
   ],
   "source": [
    "data['What barriers, if any, prevent you from exercising more regularly?           (Please select all that apply)'].unique()"
   ]
  },
  {
   "cell_type": "code",
   "execution_count": 6,
   "id": "45f6eabd-36ed-40a5-8aaf-bc5880335bda",
   "metadata": {},
   "outputs": [
    {
     "data": {
      "text/plain": [
       "array([\"I don't really exercise\", 'Walking or jogging;Swimming',\n",
       "       'Walking or jogging', 'Walking or jogging;Gym;Lifting weights',\n",
       "       'Walking or jogging;Yoga', 'Gym;Team sport', 'Gym',\n",
       "       'Walking or jogging;Team sport',\n",
       "       \"Walking or jogging;I don't really exercise\",\n",
       "       'Walking or jogging;Gym', 'Team sport', 'Zumba dance', 'Yoga',\n",
       "       'Walking or jogging;Gym;Lifting weights;Team sport',\n",
       "       'Walking or jogging;Gym;Yoga;Lifting weights', 'Gym;Swimming',\n",
       "       'Gym;Lifting weights;Team sport',\n",
       "       'Walking or jogging;Swimming;Lifting weights',\n",
       "       'Walking or jogging;Gym;Yoga',\n",
       "       'Walking or jogging;Zumba dance;Team sport',\n",
       "       'Walking or jogging;Zumba dance', 'Gym;Swimming;Lifting weights',\n",
       "       \"Team sport;I don't really exercise\",\n",
       "       'Walking or jogging;Lifting weights',\n",
       "       'Walking or jogging;Yoga;Team sport', 'Swimming',\n",
       "       'Gym;Lifting weights', 'Walking or jogging;Gym;Swimming',\n",
       "       'Walking or jogging;Gym;Team sport', 'Swimming;Team sport',\n",
       "       'Yoga;Team sport', 'Swimming;Yoga',\n",
       "       'Walking or jogging;Swimming;Team sport',\n",
       "       'Gym;Swimming;Team sport', 'Walking or jogging;Yoga;Zumba dance',\n",
       "       'Walking or jogging;Gym;Swimming;Yoga;Zumba dance;Lifting weights;Team sport',\n",
       "       'Walking or jogging;Gym;Swimming;Lifting weights',\n",
       "       \"Yoga;I don't really exercise\",\n",
       "       'Walking or jogging;Gym;Zumba dance', 'Gym;Yoga',\n",
       "       'Gym;Zumba dance', 'Walking or jogging;Gym;Yoga;Zumba dance',\n",
       "       'Walking or jogging;Gym;Swimming;Lifting weights;Team sport',\n",
       "       'Walking or jogging;Lifting weights;Team sport',\n",
       "       'Walking or jogging;Gym;Swimming;Team sport', 'Lifting weights',\n",
       "       'Walking or jogging;Yoga;Lifting weights',\n",
       "       'Walking or jogging;Swimming;Yoga;Team sport',\n",
       "       'Walking or jogging;Swimming;Yoga',\n",
       "       'Walking or jogging;Yoga;Lifting weights;Team sport',\n",
       "       'Swimming;Zumba dance', 'Zumba dance;Team sport',\n",
       "       'Walking or jogging;Swimming;Yoga;Zumba dance', 'Yoga;Zumba dance'],\n",
       "      dtype=object)"
      ]
     },
     "execution_count": 6,
     "metadata": {},
     "output_type": "execute_result"
    }
   ],
   "source": [
    "data['What form(s) of exercise do you currently participate in ?                        (Please select all that apply)'].unique()"
   ]
  },
  {
   "cell_type": "code",
   "execution_count": 7,
   "id": "bd086efd-6b52-4d3d-b42f-aa9b43611112",
   "metadata": {},
   "outputs": [
    {
     "data": {
      "text/plain": [
       "array(['Ease of access to fast food;Temptation and cravings',\n",
       "       'Temptation and cravings', 'Ease of access to fast food',\n",
       "       'Lack of time', 'Cost;Ease of access to fast food',\n",
       "       'Lack of time;Ease of access to fast food',\n",
       "       'Lack of time;Temptation and cravings', 'Cost',\n",
       "       'Lack of time;Cost',\n",
       "       'Lack of time;Ease of access to fast food;Temptation and cravings',\n",
       "       'Cost;Ease of access to fast food;Temptation and cravings',\n",
       "       'Lack of time;Cost;Temptation and cravings',\n",
       "       'Lack of time;Cost;Ease of access to fast food;Temptation and cravings',\n",
       "       'Cost;Temptation and cravings', 'I have a balanced diet',\n",
       "       \"i don't have a proper diet\",\n",
       "       'Temptation and cravings;I have a balanced diet',\n",
       "       'Rarely eat fast food',\n",
       "       \"I do not measure. I can't say for sure if my diet is balanced. \",\n",
       "       'Alcohol does me a good diet',\n",
       "       'Ease of access to fast food;I have a balanced diet',\n",
       "       'Social circle '], dtype=object)"
      ]
     },
     "execution_count": 7,
     "metadata": {},
     "output_type": "execute_result"
    }
   ],
   "source": [
    "data['What prevents you from eating a healthy balanced diet, If any?                         (Please select all that apply)'].unique()"
   ]
  },
  {
   "cell_type": "code",
   "execution_count": 8,
   "id": "edff5ff0-19ca-4acb-8e68-f4f5736d4df3",
   "metadata": {},
   "outputs": [
    {
     "data": {
      "text/plain": [
       "array([\"I'm sorry ... I'm not really interested in exercising\",\n",
       "       \"I want to be fit;I want to be flexible;I want to relieve stress;I'm sorry ... I'm not really interested in exercising\",\n",
       "       'I want to be fit', 'I want to be fit;I want to lose weight',\n",
       "       'I want to be flexible',\n",
       "       \"I want to be fit;I'm sorry ... I'm not really interested in exercising\",\n",
       "       'I want to be fit;I want to increase muscle mass and strength;I want to lose weight',\n",
       "       'I want to be fit;I want to lose weight;I want to relieve stress',\n",
       "       'I want to be fit;I want to increase muscle mass and strength;I want to lose weight;I want to be flexible;I want to relieve stress;I want to achieve a sporting goal;Doing exercises prevents many diseases.So yeah saves a lot of money .',\n",
       "       'I want to relieve stress',\n",
       "       \"I want to relieve stress;I'm sorry ... I'm not really interested in exercising\",\n",
       "       'I want to increase muscle mass and strength',\n",
       "       'I want to be fit;I want to increase muscle mass and strength;I want to lose weight;I want to be flexible;I want to relieve stress',\n",
       "       'I want to increase muscle mass and strength;I want to lose weight;I want to be flexible',\n",
       "       'I want to be fit;I want to be flexible;I want to relieve stress',\n",
       "       'I want to achieve a sporting goal',\n",
       "       'I want to relieve stress;I want to achieve a sporting goal',\n",
       "       'I want to lose weight',\n",
       "       'I want to be fit;I want to increase muscle mass and strength;I want to relieve stress',\n",
       "       'I want to be fit;I want to increase muscle mass and strength',\n",
       "       'I want to be fit;Exercising gives you discipline and focus and removed bad thoughts from your mind.',\n",
       "       'I want to be fit;I want to lose weight;I want to be flexible',\n",
       "       'I want to be fit;I want to increase muscle mass and strength;I want to be flexible;I want to relieve stress;I want to achieve a sporting goal',\n",
       "       'I want to be fit;I want to be flexible',\n",
       "       'I want to be fit;I want to relieve stress',\n",
       "       'I want to be fit;I want to lose weight;I want to be flexible;I want to relieve stress',\n",
       "       'I want to be fit;I want to increase muscle mass and strength;I want to lose weight;I want to relieve stress',\n",
       "       'I want to be fit;I want to lose weight;Control Diabetes ',\n",
       "       'I want to be fit;I want to lose weight;I want to be flexible;I want to achieve a sporting goal',\n",
       "       \"I want to increase muscle mass and strength;I'm sorry ... I'm not really interested in exercising\",\n",
       "       'I want to be fit;I want to be flexible;To maintain healthy body and mind',\n",
       "       'I want to be flexible;I want to relieve stress',\n",
       "       'I want to lose weight;I want to be flexible',\n",
       "       'I want to increase muscle mass and strength;I want to lose weight',\n",
       "       \"I want to be fit;I want to increase muscle mass and strength;I want to lose weight;I'm sorry ... I'm not really interested in exercising\",\n",
       "       'I want to be fit;I want to be flexible;I want to achieve a sporting goal',\n",
       "       'I want to be fit;I want to increase muscle mass and strength;I want to be flexible',\n",
       "       'I want to increase muscle mass and strength;I want to lose weight;I want to relieve stress',\n",
       "       'I want to lose weight;I want to relieve stress',\n",
       "       'I want to be fit;I want to think clearly and I want to play cricket with my grandkids',\n",
       "       'I want to be fit;I want to achieve a sporting goal',\n",
       "       'I want to increase muscle mass and strength;I want to achieve a sporting goal',\n",
       "       'I want to increase muscle mass and strength;I want to relieve stress',\n",
       "       'I dont wanna gain weight????',\n",
       "       'I want to be fit;I want to increase muscle mass and strength;I want to be flexible;I want to relieve stress',\n",
       "       'I want to be fit;I want to increase muscle mass and strength;I want to lose weight;I want to be flexible;I want to relieve stress;I want to achieve a sporting goal',\n",
       "       'I want to be fit;I want to relieve stress;I want to achieve a sporting goal',\n",
       "       'I want to be flexible;I want to relieve stress;I want to achieve a sporting goal',\n",
       "       'I want to be fit;I want to increase muscle mass and strength;I want to be flexible;I want to achieve a sporting goal',\n",
       "       'I want to lose weight;I want to be flexible;I want to relieve stress',\n",
       "       'I want to be fit;I want to increase muscle mass and strength;I want to lose weight;I want to be flexible',\n",
       "       'Going to class on time ????',\n",
       "       'I want to be flexible;I want to achieve a sporting goal',\n",
       "       'I want to be fit;I want to lose weight;I want to be flexible;I want to relieve stress;I want to achieve a sporting goal',\n",
       "       'I want to be fit;I want to lose weight;I want to achieve a sporting goal',\n",
       "       'See the answer to what barriers, if any, prevent you from exercising  regularly ',\n",
       "       'I want to be fit;I want to be flexible;I want to relieve stress;I want to achieve a sporting goal',\n",
       "       'My dad motivates me ',\n",
       "       'I want to be fit;I want to increase muscle mass and strength;I want to achieve a sporting goal',\n",
       "       'Reaching class on time ????', 'Personal reasons',\n",
       "       'I want to be fit;I want to lose weight;I want to relieve stress;I want to achieve a sporting goal',\n",
       "       'Not doing exercise',\n",
       "       'I want to be fit;I want to increase muscle mass and strength;I want to relieve stress;I want to achieve a sporting goal',\n",
       "       'I want to be fit;I want to increase muscle mass and strength;I want to lose weight;I want to relieve stress;I want to achieve a sporting goal',\n",
       "       'I want to be fit;I want to look young and think young',\n",
       "       'Gotta get that alcohol and **** out of the system',\n",
       "       'I want to be fit;I want to increase muscle mass and strength;I want to lose weight;I want to achieve a sporting goal'],\n",
       "      dtype=object)"
      ]
     },
     "execution_count": 8,
     "metadata": {},
     "output_type": "execute_result"
    }
   ],
   "source": [
    "data['What motivates you to exercise?         (Please select all that applies )'].unique()"
   ]
  },
  {
   "cell_type": "markdown",
   "id": "199ea131-4148-400a-96e3-9acd08e1d915",
   "metadata": {},
   "source": [
    "<h3>After analyzing the data, we removed unnecessary columns.</h3>"
   ]
  },
  {
   "cell_type": "code",
   "execution_count": 9,
   "id": "e82a80db-7a23-442a-93d4-b4302b85a5f5",
   "metadata": {},
   "outputs": [],
   "source": [
    "data = data.drop(columns=['Timestamp'])\n",
    "data = data.drop(columns=['Your name '])\n",
    "data = data.drop(columns=['What barriers, if any, prevent you from exercising more regularly?           (Please select all that apply)'])\n",
    "data = data.drop(columns=['What form(s) of exercise do you currently participate in ?                        (Please select all that apply)'])\n",
    "data = data.drop(columns=['What prevents you from eating a healthy balanced diet, If any?                         (Please select all that apply)'])\n",
    "data = data.drop(columns=['What motivates you to exercise?         (Please select all that applies )'])"
   ]
  },
  {
   "cell_type": "code",
   "execution_count": 10,
   "id": "2805cbb7-57dc-4c0e-9096-afb79338e67f",
   "metadata": {},
   "outputs": [
    {
     "name": "stdout",
     "output_type": "stream",
     "text": [
      "(545, 12)\n",
      "\n",
      "\n",
      "Your gender                                                            2\n",
      "Your age                                                               5\n",
      "How important is exercise to you ?                                     5\n",
      "How do you describe your current level of fitness ?                    5\n",
      "How often do you exercise?                                             6\n",
      "Do you exercise ___________ ?                                          5\n",
      "What time if the day do you prefer to exercise?                        3\n",
      "How long do you spend exercising per day ?                             5\n",
      "Would you say you eat a healthy balanced diet ?                        3\n",
      "How healthy do you consider yourself?                                  5\n",
      "Have you ever recommended your friends to follow a fitness routine?    2\n",
      "Have you ever purchased a fitness equipment?                           2\n",
      "dtype: int64\n"
     ]
    }
   ],
   "source": [
    "print(data.shape)\n",
    "print(\"\\n\")\n",
    "unique_counts = data.nunique()\n",
    "print(unique_counts)"
   ]
  },
  {
   "cell_type": "markdown",
   "id": "873fa026-ed22-4dda-bbc5-747a7de11287",
   "metadata": {},
   "source": [
    "<h2>Summary</h2>\n",
    "<ul>\n",
    "  <li>Before data cleaning, the DataFrame contained 545 rows and 18 columns, with no missing values or duplicate entries.</li>\n",
    "  <li>The DataFrame includes a mix of integer and object data types.</li>\n",
    "  <li>All columns are categorical variables.</li>\n",
    "  <li>After observing the data, we removed unnecessary columns because they were too messy for analysis.</li>\n",
    "  <li>We now have a total of 545 rows and 12 columns in the DataFrame.</li>\n",
    "</ul>"
   ]
  },
  {
   "cell_type": "markdown",
   "id": "9944d38b-2721-4390-9f7b-3d588a6c564f",
   "metadata": {},
   "source": [
    "## Exploratory Data Analysis"
   ]
  },
  {
   "cell_type": "markdown",
   "id": "64040fd2-0bb0-4237-8bc5-4a9da2934680",
   "metadata": {},
   "source": [
    "#### Which age group has the highest percentage of fitness equipment purchases?"
   ]
  },
  {
   "cell_type": "code",
   "execution_count": 11,
   "id": "a3e7408b-7f39-40df-88c9-5e3e222a7249",
   "metadata": {},
   "outputs": [
    {
     "data": {
      "text/plain": [
       "<Figure size 1500x500 with 0 Axes>"
      ]
     },
     "metadata": {},
     "output_type": "display_data"
    },
    {
     "data": {
      "image/png": "[encoded data removed]",
      "text/plain": [
       "<Figure size 640x480 with 1 Axes>"
      ]
     },
     "metadata": {},
     "output_type": "display_data"
    }
   ],
   "source": [
    "ct = round(pd.crosstab(data['Your age '], data['Have you ever purchased a fitness equipment?'], normalize='index') * 100,1)\n",
    "plt.figure(figsize=(15, 5))\n",
    "\n",
    "ax = ct.plot(kind='barh', stacked=True)\n",
    "for container in ax.containers:\n",
    "    ax.bar_label(container, label_type='center', fontsize=9, color='black')\n",
    "    \n",
    "plt.ylabel('Age')\n",
    "plt.xlabel(\"\")\n",
    "plt.title('Percentage of people who have ever purchased fitness equipment by age', size=14, weight=\"bold\")\n",
    "plt.legend(title='Have you ever purchased a fitness equipment?', labels=['No', 'Yes'], bbox_to_anchor=(1, 1))\n",
    "\n",
    "sns.despine(left=True, bottom=True)"
   ]
  },
  {
   "cell_type": "markdown",
   "id": "792f3ca7-8381-425d-8799-5e00ef3c4ac9",
   "metadata": {},
   "source": [
    "<h4 style=\"line-height: 1.5;\">The above graph shows that people aged 40 and above have the highest percentage of fitness equipment purchases, at 55.3%, while those aged 26 to 30 have the lowest percentage, at 10%.</h4>"
   ]
  },
  {
   "cell_type": "markdown",
   "id": "e342627b-3251-4ffd-8526-870a4135a86c",
   "metadata": {},
   "source": [
    "#### Is there a difference in the percentage of fitness equipment purchases between genders?"
   ]
  },
  {
   "cell_type": "code",
   "execution_count": 12,
   "id": "c60fc3e4-b625-46c5-907d-a3c1e133cb53",
   "metadata": {},
   "outputs": [
    {
     "data": {
      "text/plain": [
       "Text(0, 0.5, '')"
      ]
     },
     "execution_count": 12,
     "metadata": {},
     "output_type": "execute_result"
    },
    {
     "data": {
      "image/png": "[encoded data removed]",
      "text/plain": [
       "<Figure size 1500x800 with 1 Axes>"
      ]
     },
     "metadata": {},
     "output_type": "display_data"
    }
   ],
   "source": [
    "plt.figure(figsize=(15, 8))\n",
    "ax = sns.countplot(data=data, x=\"Your gender \", hue=\"Have you ever purchased a fitness equipment?\")\n",
    "for p in ax.patches:\n",
    "    ax.annotate(f'{p.get_height()}', (p.get_x() + p.get_width() / 2., p.get_height()), ha='center', va='bottom')\n",
    "\n",
    "plt.title('Number of people who have ever purchased fitness equipment by gender', size=14, weight=\"bold\")\n",
    "plt.xlabel('Gender', fontsize=9)\n",
    "plt.ylabel('')"
   ]
  },
  {
   "cell_type": "markdown",
   "id": "90c88e2c-5846-484c-9aa7-0e5d75cd94c3",
   "metadata": {},
   "source": [
    "<h4 style=\"line-height: 1.5;\">The above graph shows that, regardless of gender, the number of people who have never bought fitness equipment is higher than the number of those who have.</h4>"
   ]
  },
  {
   "cell_type": "markdown",
   "id": "6ce2581e-5fa8-477b-8203-fc8dc69b0aca",
   "metadata": {},
   "source": [
    "#### At what time do most people tend to exercise?"
   ]
  },
  {
   "cell_type": "code",
   "execution_count": 13,
   "id": "e05d21a0-fbee-4b76-aa31-80af1eca36bd",
   "metadata": {},
   "outputs": [
    {
     "data": {
      "image/png": "[encoded data removed]",
      "text/plain": [
       "<Figure size 1500x800 with 1 Axes>"
      ]
     },
     "metadata": {},
     "output_type": "display_data"
    }
   ],
   "source": [
    "plt.figure(figsize=(15, 8))\n",
    "times = data[\"What time if the day do you prefer to exercise?\"].value_counts(normalize=True) * 100\n",
    "\n",
    "plt.pie(times, labels=times.index, explode=(0.06, 0.06, 0.06), shadow=True, autopct='%1.0f%%', startangle=90)\n",
    "plt.title(\"Preferred Time to Exercise\", size=14, weight=\"bold\")\n",
    "plt.legend(title='Time', bbox_to_anchor=(1, 1))\n",
    "plt.show()"
   ]
  },
  {
   "cell_type": "markdown",
   "id": "845228b7-8e63-41eb-9923-012e9062b97e",
   "metadata": {},
   "source": [
    "<h4 style=\"line-height: 1.5;\">The above graph shows that most people tend to exercise in the early morning, with 55% choosing this time.</h4>"
   ]
  },
  {
   "cell_type": "code",
   "execution_count": 14,
   "id": "3ae88089-bb05-47cd-acab-403cc1385157",
   "metadata": {},
   "outputs": [
    {
     "data": {
      "text/plain": [
       "Text(0, 0.5, '')"
      ]
     },
     "execution_count": 14,
     "metadata": {},
     "output_type": "execute_result"
    },
    {
     "data": {
      "image/png": "[encoded data removed]",
      "text/plain": [
       "<Figure size 1500x800 with 1 Axes>"
      ]
     },
     "metadata": {},
     "output_type": "display_data"
    }
   ],
   "source": [
    "plt.figure(figsize=(15, 8))\n",
    "ax = sns.countplot(data=data, x=\"How healthy do you consider yourself?\", hue=\"Have you ever purchased a fitness equipment?\")\n",
    "for p in ax.patches:\n",
    "    ax.annotate(f'{p.get_height()}', (p.get_x() + p.get_width() / 2., p.get_height()), ha='center', va='bottom')\n",
    "\n",
    "plt.title('Number of people who have ever purchased fitness equipment, based on how healthy they consider themselves', size=14, weight=\"bold\")\n",
    "plt.xlabel('How healthy do you consider yourself?', fontsize=9)\n",
    "plt.ylabel('')"
   ]
  },
  {
   "cell_type": "code",
   "execution_count": 15,
   "id": "0be3e135-37fd-4576-bbb3-61226683d7d6",
   "metadata": {},
   "outputs": [
    {
     "data": {
      "text/plain": [
       "<Figure size 1500x500 with 0 Axes>"
      ]
     },
     "metadata": {},
     "output_type": "display_data"
    },
    {
     "data": {
      "image/png": "[encoded data removed]",
      "text/plain": [
       "<Figure size 640x480 with 1 Axes>"
      ]
     },
     "metadata": {},
     "output_type": "display_data"
    }
   ],
   "source": [
    "ct = round(pd.crosstab(data[\"How healthy do you consider yourself?\"], data['Have you ever purchased a fitness equipment?'], normalize='index') * 100,1)\n",
    "plt.figure(figsize=(15, 5))\n",
    "\n",
    "ax = ct.plot(kind='barh', stacked=True)\n",
    "for container in ax.containers:\n",
    "    ax.bar_label(container, label_type='center', fontsize=9, color='black')\n",
    "    \n",
    "plt.ylabel('How healthy do you consider yourself?')\n",
    "plt.xlabel(\"\")\n",
    "plt.title('Percentage of people who have ever purchased fitness equipment, based on how healthy they consider themselves', size=14, weight=\"bold\")\n",
    "plt.legend(title='Have you ever purchased a fitness equipment?', labels=['No', 'Yes'], bbox_to_anchor=(1, 1))\n",
    "\n",
    "sns.despine(left=True, bottom=True)"
   ]
  },
  {
   "cell_type": "markdown",
   "id": "2f2626ce-426f-45b4-ad1d-35c90dd7ae01",
   "metadata": {},
   "source": [
    "<h4 style=\"line-height: 1.5;\">Finally, we aim to predict whether members have ever purchased fitness equipment. We choose two types of machine learning models to solve this problem: Random Forest model and LogisticRegression model.</h4>"
   ]
  },
  {
   "cell_type": "markdown",
   "id": "94843ddc-c1fc-4e6c-8f9d-361e3733e1cb",
   "metadata": {},
   "source": [
    "<h2>Data Preprocessing</h2>"
   ]
  },
  {
   "cell_type": "code",
   "execution_count": 16,
   "id": "79c1f6ef-cf49-48fc-a254-7ca4d39d8f55",
   "metadata": {},
   "outputs": [
    {
     "name": "stdout",
     "output_type": "stream",
     "text": [
      "<class 'pandas.core.frame.DataFrame'>\n",
      "RangeIndex: 545 entries, 0 to 544\n",
      "Data columns (total 12 columns):\n",
      " #   Column                                                               Non-Null Count  Dtype \n",
      "---  ------                                                               --------------  ----- \n",
      " 0   Your gender                                                          545 non-null    object\n",
      " 1   Your age                                                             545 non-null    object\n",
      " 2   How important is exercise to you ?                                   545 non-null    int64 \n",
      " 3   How do you describe your current level of fitness ?                  545 non-null    object\n",
      " 4   How often do you exercise?                                           545 non-null    object\n",
      " 5   Do you exercise ___________ ?                                        545 non-null    object\n",
      " 6   What time if the day do you prefer to exercise?                      545 non-null    object\n",
      " 7   How long do you spend exercising per day ?                           545 non-null    object\n",
      " 8   Would you say you eat a healthy balanced diet ?                      545 non-null    object\n",
      " 9   How healthy do you consider yourself?                                545 non-null    int64 \n",
      " 10  Have you ever recommended your friends to follow a fitness routine?  545 non-null    object\n",
      " 11  Have you ever purchased a fitness equipment?                         545 non-null    object\n",
      "dtypes: int64(2), object(10)\n",
      "memory usage: 51.2+ KB\n"
     ]
    }
   ],
   "source": [
    "data.info()"
   ]
  },
  {
   "cell_type": "code",
   "execution_count": 17,
   "id": "b35f6d83-c6a4-468d-8c07-8fd1a5e6b270",
   "metadata": {},
   "outputs": [],
   "source": [
    "x = data.iloc[:, :-1].values\n",
    "y = data.iloc[:, 11].values"
   ]
  },
  {
   "cell_type": "code",
   "execution_count": 18,
   "id": "5929e722-cc23-42ac-990f-c119836fea15",
   "metadata": {},
   "outputs": [
    {
     "name": "stdout",
     "output_type": "stream",
     "text": [
      "Features (x):\n",
      "[['Female' '19 to 25' 2 ... 'Not always' 3 'Yes']\n",
      " ['Female' '19 to 25' 4 ... 'Not always' 4 'Yes']\n",
      " ['Female' '15 to 18' 3 ... 'Not always' 4 'Yes']\n",
      " ...\n",
      " ['Female' '19 to 25' 4 ... 'Not always' 4 'Yes']\n",
      " ['Male' '19 to 25' 3 ... 'Not always' 3 'Yes']\n",
      " ['Female' '40 and above' 2 ... 'Not always' 3 'No']]\n",
      "\n",
      "\n",
      "Target (y):\n",
      "['No' 'No' 'Yes' 'No' 'No' 'No' 'No' 'Yes' 'No' 'Yes' 'Yes' 'Yes' 'No'\n",
      " 'Yes' 'Yes' 'No' 'No' 'No' 'Yes' 'Yes' 'No' 'No' 'Yes' 'No' 'Yes' 'Yes'\n",
      " 'No' 'No' 'Yes' 'Yes' 'No' 'No' 'No' 'No' 'Yes' 'No' 'No' 'No' 'No' 'Yes'\n",
      " 'No' 'Yes' 'Yes' 'No' 'Yes' 'No' 'Yes' 'No' 'No' 'Yes' 'No' 'No' 'Yes'\n",
      " 'Yes' 'No' 'Yes' 'No' 'No' 'No' 'No' 'No' 'No' 'No' 'No' 'No' 'No' 'No'\n",
      " 'No' 'No' 'No' 'No' 'Yes' 'Yes' 'Yes' 'Yes' 'Yes' 'No' 'No' 'Yes' 'Yes'\n",
      " 'Yes' 'Yes' 'Yes' 'No' 'No' 'No' 'No' 'Yes' 'Yes' 'Yes' 'No' 'Yes' 'Yes'\n",
      " 'Yes' 'Yes' 'Yes' 'Yes' 'No' 'No' 'No' 'Yes' 'No' 'Yes' 'No' 'No' 'No'\n",
      " 'Yes' 'Yes' 'No' 'Yes' 'No' 'No' 'No' 'No' 'Yes' 'Yes' 'No' 'No' 'Yes'\n",
      " 'Yes' 'Yes' 'Yes' 'No' 'No' 'No' 'Yes' 'No' 'Yes' 'Yes' 'No' 'No' 'No'\n",
      " 'No' 'No' 'No' 'No' 'No' 'Yes' 'No' 'No' 'Yes' 'No' 'Yes' 'Yes' 'No' 'No'\n",
      " 'Yes' 'No' 'No' 'Yes' 'No' 'Yes' 'Yes' 'No' 'No' 'No' 'No' 'No' 'Yes'\n",
      " 'Yes' 'Yes' 'No' 'Yes' 'No' 'No' 'Yes' 'Yes' 'No' 'No' 'No' 'No' 'No'\n",
      " 'No' 'Yes' 'Yes' 'Yes' 'Yes' 'No' 'No' 'No' 'Yes' 'No' 'No' 'No' 'No'\n",
      " 'Yes' 'Yes' 'Yes' 'No' 'Yes' 'No' 'Yes' 'No' 'No' 'No' 'No' 'No' 'Yes'\n",
      " 'Yes' 'Yes' 'No' 'No' 'No' 'No' 'No' 'Yes' 'No' 'Yes' 'No' 'No' 'Yes'\n",
      " 'No' 'No' 'No' 'Yes' 'Yes' 'No' 'No' 'No' 'No' 'No' 'No' 'No' 'Yes' 'Yes'\n",
      " 'No' 'No' 'Yes' 'No' 'Yes' 'No' 'No' 'Yes' 'No' 'No' 'Yes' 'Yes' 'No'\n",
      " 'No' 'No' 'Yes' 'No' 'No' 'No' 'No' 'No' 'No' 'No' 'No' 'No' 'No' 'No'\n",
      " 'No' 'Yes' 'No' 'Yes' 'No' 'No' 'No' 'No' 'No' 'No' 'Yes' 'No' 'No' 'No'\n",
      " 'No' 'No' 'Yes' 'Yes' 'No' 'No' 'Yes' 'No' 'No' 'No' 'No' 'No' 'No' 'Yes'\n",
      " 'No' 'No' 'Yes' 'No' 'No' 'No' 'No' 'Yes' 'No' 'Yes' 'No' 'Yes' 'Yes'\n",
      " 'No' 'No' 'No' 'No' 'No' 'Yes' 'No' 'Yes' 'No' 'No' 'No' 'No' 'No' 'No'\n",
      " 'No' 'No' 'No' 'Yes' 'No' 'No' 'No' 'No' 'No' 'Yes' 'No' 'No' 'Yes' 'No'\n",
      " 'No' 'No' 'No' 'Yes' 'No' 'Yes' 'No' 'Yes' 'No' 'No' 'No' 'No' 'Yes' 'No'\n",
      " 'Yes' 'Yes' 'No' 'No' 'Yes' 'Yes' 'Yes' 'No' 'Yes' 'Yes' 'Yes' 'Yes'\n",
      " 'Yes' 'Yes' 'Yes' 'No' 'Yes' 'Yes' 'No' 'No' 'No' 'No' 'No' 'No' 'Yes'\n",
      " 'No' 'No' 'Yes' 'Yes' 'Yes' 'No' 'No' 'No' 'No' 'Yes' 'No' 'No' 'Yes'\n",
      " 'No' 'No' 'No' 'Yes' 'No' 'Yes' 'No' 'No' 'No' 'Yes' 'No' 'No' 'No' 'No'\n",
      " 'No' 'No' 'Yes' 'Yes' 'No' 'No' 'No' 'No' 'No' 'No' 'No' 'No' 'No' 'No'\n",
      " 'No' 'Yes' 'Yes' 'No' 'No' 'No' 'Yes' 'Yes' 'No' 'No' 'No' 'Yes' 'No'\n",
      " 'No' 'No' 'No' 'Yes' 'No' 'Yes' 'No' 'No' 'Yes' 'Yes' 'No' 'No' 'No' 'No'\n",
      " 'No' 'No' 'No' 'Yes' 'Yes' 'Yes' 'No' 'Yes' 'No' 'No' 'Yes' 'No' 'Yes'\n",
      " 'No' 'No' 'Yes' 'Yes' 'Yes' 'Yes' 'Yes' 'No' 'Yes' 'No' 'Yes' 'Yes' 'No'\n",
      " 'No' 'No' 'Yes' 'No' 'No' 'No' 'No' 'Yes' 'No' 'Yes' 'No' 'Yes' 'Yes'\n",
      " 'No' 'Yes' 'No' 'No' 'No' 'No' 'No' 'No' 'No' 'No' 'No' 'No' 'Yes' 'Yes'\n",
      " 'Yes' 'No' 'No' 'No' 'Yes' 'No' 'Yes' 'Yes' 'No' 'No' 'No' 'No' 'Yes'\n",
      " 'No' 'No' 'No' 'No' 'No' 'Yes' 'Yes' 'Yes' 'Yes' 'Yes' 'Yes' 'Yes' 'No'\n",
      " 'No' 'No' 'No' 'Yes' 'Yes' 'No' 'No' 'No' 'Yes' 'No' 'No' 'Yes' 'No'\n",
      " 'Yes' 'Yes' 'No' 'Yes' 'No' 'Yes' 'Yes' 'No' 'No' 'No' 'Yes' 'No' 'Yes'\n",
      " 'No' 'Yes' 'Yes' 'No' 'Yes' 'Yes' 'Yes' 'Yes' 'Yes' 'No' 'No' 'Yes']\n"
     ]
    }
   ],
   "source": [
    "print(\"Features (x):\")\n",
    "print(x)\n",
    "print(\"\\n\")\n",
    "print(\"Target (y):\")\n",
    "print(y)"
   ]
  },
  {
   "cell_type": "markdown",
   "id": "382bcb29-2954-4f65-9bef-9dccc745ba0d",
   "metadata": {},
   "source": [
    "<h4 style=\"line-height: 1.5;\">Convert all object variables into numeric variables by using dummy variables for features (x) and LabelEncoder for the target (y).</h4>"
   ]
  },
  {
   "cell_type": "code",
   "execution_count": 19,
   "id": "2328c181-02cf-49f9-b017-0e1b030bea7c",
   "metadata": {},
   "outputs": [
    {
     "name": "stdout",
     "output_type": "stream",
     "text": [
      "Shape (x):\n",
      "(545, 35)\n",
      "\n",
      "\n",
      "Shape (y):\n",
      "(545,)\n",
      "\n",
      "\n",
      "Features (x):\n",
      "     Gender_Male  Age_19 to 25  Age_26 to 30  Age_30 to 40  Age_40 and above  \\\n",
      "0              0             1             0             0                 0   \n",
      "1              0             1             0             0                 0   \n",
      "2              0             0             0             0                 0   \n",
      "3              0             0             0             0                 0   \n",
      "4              0             1             0             0                 0   \n",
      "..           ...           ...           ...           ...               ...   \n",
      "540            0             0             0             0                 1   \n",
      "541            0             0             0             0                 1   \n",
      "542            0             1             0             0                 0   \n",
      "543            1             1             0             0                 0   \n",
      "544            0             0             0             0                 1   \n",
      "\n",
      "     Exercise Importance_2  Exercise Importance_3  Exercise Importance_4  \\\n",
      "0                        1                      0                      0   \n",
      "1                        0                      0                      1   \n",
      "2                        0                      1                      0   \n",
      "3                        0                      0                      1   \n",
      "4                        0                      1                      0   \n",
      "..                     ...                    ...                    ...   \n",
      "540                      0                      1                      0   \n",
      "541                      0                      0                      0   \n",
      "542                      0                      0                      1   \n",
      "543                      0                      1                      0   \n",
      "544                      1                      0                      0   \n",
      "\n",
      "     Exercise Importance_5  Fitness Level_Good  ...  \\\n",
      "0                        0                   1  ...   \n",
      "1                        0                   0  ...   \n",
      "2                        0                   1  ...   \n",
      "3                        0                   1  ...   \n",
      "4                        0                   0  ...   \n",
      "..                     ...                 ...  ...   \n",
      "540                      0                   0  ...   \n",
      "541                      0                   0  ...   \n",
      "542                      0                   0  ...   \n",
      "543                      0                   1  ...   \n",
      "544                      0                   0  ...   \n",
      "\n",
      "     Exercise Duration_3 hours and above  Exercise Duration_30 minutes  \\\n",
      "0                                      0                             0   \n",
      "1                                      0                             0   \n",
      "2                                      0                             1   \n",
      "3                                      0                             0   \n",
      "4                                      0                             0   \n",
      "..                                   ...                           ...   \n",
      "540                                    0                             1   \n",
      "541                                    0                             0   \n",
      "542                                    0                             1   \n",
      "543                                    0                             1   \n",
      "544                                    0                             0   \n",
      "\n",
      "     Exercise Duration_I don't really exercise  Balanced Diet_Not always  \\\n",
      "0                                            1                         1   \n",
      "1                                            1                         1   \n",
      "2                                            0                         1   \n",
      "3                                            0                         0   \n",
      "4                                            1                         0   \n",
      "..                                         ...                       ...   \n",
      "540                                          0                         1   \n",
      "541                                          0                         0   \n",
      "542                                          0                         1   \n",
      "543                                          0                         1   \n",
      "544                                          1                         1   \n",
      "\n",
      "     Balanced Diet_Yes  Self Health_2  Self Health_3  Self Health_4  \\\n",
      "0                    0              0              1              0   \n",
      "1                    0              0              0              1   \n",
      "2                    0              0              0              1   \n",
      "3                    1              0              0              1   \n",
      "4                    1              0              0              1   \n",
      "..                 ...            ...            ...            ...   \n",
      "540                  0              0              0              1   \n",
      "541                  1              0              1              0   \n",
      "542                  0              0              0              1   \n",
      "543                  0              0              1              0   \n",
      "544                  0              0              1              0   \n",
      "\n",
      "     Self Health_5  Recommend Exercise_Yes  \n",
      "0                0                       1  \n",
      "1                0                       1  \n",
      "2                0                       1  \n",
      "3                0                       1  \n",
      "4                0                       1  \n",
      "..             ...                     ...  \n",
      "540              0                       1  \n",
      "541              0                       1  \n",
      "542              0                       1  \n",
      "543              0                       1  \n",
      "544              0                       0  \n",
      "\n",
      "[545 rows x 35 columns]\n",
      "\n",
      "\n",
      "Target (y):\n",
      "[0 0 1 0 0 0 0 1 0 1 1 1 0 1 1 0 0 0 1 1 0 0 1 0 1 1 0 0 1 1 0 0 0 0 1 0 0\n",
      " 0 0 1 0 1 1 0 1 0 1 0 0 1 0 0 1 1 0 1 0 0 0 0 0 0 0 0 0 0 0 0 0 0 0 1 1 1\n",
      " 1 1 0 0 1 1 1 1 1 0 0 0 0 1 1 1 0 1 1 1 1 1 1 0 0 0 1 0 1 0 0 0 1 1 0 1 0\n",
      " 0 0 0 1 1 0 0 1 1 1 1 0 0 0 1 0 1 1 0 0 0 0 0 0 0 0 1 0 0 1 0 1 1 0 0 1 0\n",
      " 0 1 0 1 1 0 0 0 0 0 1 1 1 0 1 0 0 1 1 0 0 0 0 0 0 1 1 1 1 0 0 0 1 0 0 0 0\n",
      " 1 1 1 0 1 0 1 0 0 0 0 0 1 1 1 0 0 0 0 0 1 0 1 0 0 1 0 0 0 1 1 0 0 0 0 0 0\n",
      " 0 1 1 0 0 1 0 1 0 0 1 0 0 1 1 0 0 0 1 0 0 0 0 0 0 0 0 0 0 0 0 1 0 1 0 0 0\n",
      " 0 0 0 1 0 0 0 0 0 1 1 0 0 1 0 0 0 0 0 0 1 0 0 1 0 0 0 0 1 0 1 0 1 1 0 0 0\n",
      " 0 0 1 0 1 0 0 0 0 0 0 0 0 0 1 0 0 0 0 0 1 0 0 1 0 0 0 0 1 0 1 0 1 0 0 0 0\n",
      " 1 0 1 1 0 0 1 1 1 0 1 1 1 1 1 1 1 0 1 1 0 0 0 0 0 0 1 0 0 1 1 1 0 0 0 0 1\n",
      " 0 0 1 0 0 0 1 0 1 0 0 0 1 0 0 0 0 0 0 1 1 0 0 0 0 0 0 0 0 0 0 0 1 1 0 0 0\n",
      " 1 1 0 0 0 1 0 0 0 0 1 0 1 0 0 1 1 0 0 0 0 0 0 0 1 1 1 0 1 0 0 1 0 1 0 0 1\n",
      " 1 1 1 1 0 1 0 1 1 0 0 0 1 0 0 0 0 1 0 1 0 1 1 0 1 0 0 0 0 0 0 0 0 0 0 1 1\n",
      " 1 0 0 0 1 0 1 1 0 0 0 0 1 0 0 0 0 0 1 1 1 1 1 1 1 0 0 0 0 1 1 0 0 0 1 0 0\n",
      " 1 0 1 1 0 1 0 1 1 0 0 0 1 0 1 0 1 1 0 1 1 1 1 1 0 0 1]\n"
     ]
    }
   ],
   "source": [
    "from sklearn.preprocessing import LabelEncoder\n",
    "\n",
    "columns = ['Gender', 'Age', 'Exercise Importance', 'Fitness Level', 'Exercise Frequency', 'Exercise Type', 'Exercise Time', 'Exercise Duration',\n",
    "           'Balanced Diet', 'Self Health', 'Recommend Exercise']\n",
    "df_x = pd.DataFrame(x, columns=columns)\n",
    "x = pd.get_dummies(df_x, drop_first=True).astype(int)    \n",
    "\n",
    "label_encoder_y = LabelEncoder()\n",
    "y = label_encoder_y.fit_transform(y)\n",
    "\n",
    "print(\"Shape (x):\")\n",
    "print(x.shape)\n",
    "print(\"\\n\")\n",
    "print(\"Shape (y):\")\n",
    "print(y.shape)\n",
    "print(\"\\n\")\n",
    "print(\"Features (x):\")\n",
    "print(x)\n",
    "print(\"\\n\")\n",
    "print(\"Target (y):\")\n",
    "print(y)"
   ]
  },
  {
   "cell_type": "markdown",
   "id": "67447c9d-ea6d-42d5-8f01-3bf781460e4b",
   "metadata": {},
   "source": [
    "<h4 style=\"line-height: 1.5;\">Split dataset into 70% training set and 30% test set</h4>"
   ]
  },
  {
   "cell_type": "code",
   "execution_count": 20,
   "id": "029b5920-1c79-4a58-9e55-3de27383e0b0",
   "metadata": {},
   "outputs": [],
   "source": [
    "from sklearn.model_selection import train_test_split, GridSearchCV\n",
    "\n",
    "X_train, X_test, y_train, y_test = train_test_split(x, y, test_size=0.3, random_state=0)"
   ]
  },
  {
   "cell_type": "markdown",
   "id": "c45fb9d5-dc2e-4753-b32f-d811d1a4e5b8",
   "metadata": {},
   "source": [
    "<h2> Model Training</h2>\n",
    "<h4>Random Forest model</h4>"
   ]
  },
  {
   "cell_type": "code",
   "execution_count": 21,
   "id": "445826ee-d850-44d9-82ae-7cb10bcf1da9",
   "metadata": {},
   "outputs": [
    {
     "name": "stdout",
     "output_type": "stream",
     "text": [
      "Fitting 5 folds for each of 432 candidates, totalling 2160 fits\n"
     ]
    }
   ],
   "source": [
    "from sklearn.ensemble import RandomForestClassifier\n",
    "\n",
    "rfc = RandomForestClassifier(random_state=0) \n",
    "\n",
    "param_grid = {\n",
    "    'n_estimators': [50, 100, 200],\n",
    "    'max_depth': [None, 10, 20, 30],\n",
    "    'min_samples_split': [5, 10, 15],\n",
    "    'min_samples_leaf': [4, 6, 8],\n",
    "    'max_features': ['sqrt', 'log2'],\n",
    "    'criterion': ['gini', 'entropy']\n",
    "}\n",
    "\n",
    "grid_search = GridSearchCV(estimator=rfc, param_grid=param_grid, cv=5, n_jobs=-1, verbose=2, scoring='accuracy')\n",
    "grid_search.fit(X_train, y_train)\n",
    "best_rf = grid_search.best_estimator_"
   ]
  },
  {
   "cell_type": "markdown",
   "id": "0a2dbcf3-834b-4bca-881d-f1a2fcadc43d",
   "metadata": {},
   "source": [
    "<h4>LogisticRegression model</h4>"
   ]
  },
  {
   "cell_type": "code",
   "execution_count": 22,
   "id": "a149f121-5ea2-4837-9c66-f52261824928",
   "metadata": {},
   "outputs": [
    {
     "data": {
      "text/html": [
       "<style>#sk-container-id-1 {color: black;background-color: white;}#sk-container-id-1 pre{padding: 0;}#sk-container-id-1 div.sk-toggleable {background-color: white;}#sk-container-id-1 label.sk-toggleable__label {cursor: pointer;display: block;width: 100%;margin-bottom: 0;padding: 0.3em;box-sizing: border-box;text-align: center;}#sk-container-id-1 label.sk-toggleable__label-arrow:before {content: \"▸\";float: left;margin-right: 0.25em;color: #696969;}#sk-container-id-1 label.sk-toggleable__label-arrow:hover:before {color: black;}#sk-container-id-1 div.sk-estimator:hover label.sk-toggleable__label-arrow:before {color: black;}#sk-container-id-1 div.sk-toggleable__content {max-height: 0;max-width: 0;overflow: hidden;text-align: left;background-color: #f0f8ff;}#sk-container-id-1 div.sk-toggleable__content pre {margin: 0.2em;color: black;border-radius: 0.25em;background-color: #f0f8ff;}#sk-container-id-1 input.sk-toggleable__control:checked~div.sk-toggleable__content {max-height: 200px;max-width: 100%;overflow: auto;}#sk-container-id-1 input.sk-toggleable__control:checked~label.sk-toggleable__label-arrow:before {content: \"▾\";}#sk-container-id-1 div.sk-estimator input.sk-toggleable__control:checked~label.sk-toggleable__label {background-color: #d4ebff;}#sk-container-id-1 div.sk-label input.sk-toggleable__control:checked~label.sk-toggleable__label {background-color: #d4ebff;}#sk-container-id-1 input.sk-hidden--visually {border: 0;clip: rect(1px 1px 1px 1px);clip: rect(1px, 1px, 1px, 1px);height: 1px;margin: -1px;overflow: hidden;padding: 0;position: absolute;width: 1px;}#sk-container-id-1 div.sk-estimator {font-family: monospace;background-color: #f0f8ff;border: 1px dotted black;border-radius: 0.25em;box-sizing: border-box;margin-bottom: 0.5em;}#sk-container-id-1 div.sk-estimator:hover {background-color: #d4ebff;}#sk-container-id-1 div.sk-parallel-item::after {content: \"\";width: 100%;border-bottom: 1px solid gray;flex-grow: 1;}#sk-container-id-1 div.sk-label:hover label.sk-toggleable__label {background-color: #d4ebff;}#sk-container-id-1 div.sk-serial::before {content: \"\";position: absolute;border-left: 1px solid gray;box-sizing: border-box;top: 0;bottom: 0;left: 50%;z-index: 0;}#sk-container-id-1 div.sk-serial {display: flex;flex-direction: column;align-items: center;background-color: white;padding-right: 0.2em;padding-left: 0.2em;position: relative;}#sk-container-id-1 div.sk-item {position: relative;z-index: 1;}#sk-container-id-1 div.sk-parallel {display: flex;align-items: stretch;justify-content: center;background-color: white;position: relative;}#sk-container-id-1 div.sk-item::before, #sk-container-id-1 div.sk-parallel-item::before {content: \"\";position: absolute;border-left: 1px solid gray;box-sizing: border-box;top: 0;bottom: 0;left: 50%;z-index: -1;}#sk-container-id-1 div.sk-parallel-item {display: flex;flex-direction: column;z-index: 1;position: relative;background-color: white;}#sk-container-id-1 div.sk-parallel-item:first-child::after {align-self: flex-end;width: 50%;}#sk-container-id-1 div.sk-parallel-item:last-child::after {align-self: flex-start;width: 50%;}#sk-container-id-1 div.sk-parallel-item:only-child::after {width: 0;}#sk-container-id-1 div.sk-dashed-wrapped {border: 1px dashed gray;margin: 0 0.4em 0.5em 0.4em;box-sizing: border-box;padding-bottom: 0.4em;background-color: white;}#sk-container-id-1 div.sk-label label {font-family: monospace;font-weight: bold;display: inline-block;line-height: 1.2em;}#sk-container-id-1 div.sk-label-container {text-align: center;}#sk-container-id-1 div.sk-container {/* jupyter's `normalize.less` sets `[hidden] { display: none; }` but bootstrap.min.css set `[hidden] { display: none !important; }` so we also need the `!important` here to be able to override the default hidden behavior on the sphinx rendered scikit-learn.org. See: https://github.com/scikit-learn/scikit-learn/issues/21755 */display: inline-block !important;position: relative;}#sk-container-id-1 div.sk-text-repr-fallback {display: none;}</style><div id=\"sk-container-id-1\" class=\"sk-top-container\"><div class=\"sk-text-repr-fallback\"><pre>LogisticRegression()</pre><b>In a Jupyter environment, please rerun this cell to show the HTML representation or trust the notebook. <br />On GitHub, the HTML representation is unable to render, please try loading this page with nbviewer.org.</b></div><div class=\"sk-container\" hidden><div class=\"sk-item\"><div class=\"sk-estimator sk-toggleable\"><input class=\"sk-toggleable__control sk-hidden--visually\" id=\"sk-estimator-id-1\" type=\"checkbox\" checked><label for=\"sk-estimator-id-1\" class=\"sk-toggleable__label sk-toggleable__label-arrow\">LogisticRegression</label><div class=\"sk-toggleable__content\"><pre>LogisticRegression()</pre></div></div></div></div></div>"
      ],
      "text/plain": [
       "LogisticRegression()"
      ]
     },
     "execution_count": 22,
     "metadata": {},
     "output_type": "execute_result"
    }
   ],
   "source": [
    "from sklearn.linear_model import LogisticRegression\n",
    "\n",
    "logmodel = LogisticRegression()\n",
    "logmodel.fit(X_train, y_train)"
   ]
  },
  {
   "cell_type": "markdown",
   "id": "fee0978b-2da0-4a46-8320-ce9855f290f3",
   "metadata": {},
   "source": [
    "<h4>Support Vector Classification</h4>"
   ]
  },
  {
   "cell_type": "code",
   "execution_count": 23,
   "id": "e9ed449f-5cc1-4836-a8f7-b1f30050384f",
   "metadata": {},
   "outputs": [
    {
     "name": "stdout",
     "output_type": "stream",
     "text": [
      "Fitting 5 folds for each of 32 candidates, totalling 160 fits\n",
      "[CV] END .........................C=0.1, gamma=1, kernel=rbf; total time=   0.0s\n",
      "[CV] END .........................C=0.1, gamma=1, kernel=rbf; total time=   0.0s\n",
      "[CV] END .........................C=0.1, gamma=1, kernel=rbf; total time=   0.0s\n",
      "[CV] END .........................C=0.1, gamma=1, kernel=rbf; total time=   0.0s\n",
      "[CV] END .........................C=0.1, gamma=1, kernel=rbf; total time=   0.0s\n",
      "[CV] END ......................C=0.1, gamma=1, kernel=linear; total time=   0.0s\n",
      "[CV] END ......................C=0.1, gamma=1, kernel=linear; total time=   0.0s\n",
      "[CV] END ......................C=0.1, gamma=1, kernel=linear; total time=   0.0s\n",
      "[CV] END ......................C=0.1, gamma=1, kernel=linear; total time=   0.0s\n",
      "[CV] END ......................C=0.1, gamma=1, kernel=linear; total time=   0.0s\n",
      "[CV] END .......................C=0.1, gamma=0.1, kernel=rbf; total time=   0.0s\n",
      "[CV] END .......................C=0.1, gamma=0.1, kernel=rbf; total time=   0.0s\n",
      "[CV] END .......................C=0.1, gamma=0.1, kernel=rbf; total time=   0.0s\n",
      "[CV] END .......................C=0.1, gamma=0.1, kernel=rbf; total time=   0.0s\n",
      "[CV] END .......................C=0.1, gamma=0.1, kernel=rbf; total time=   0.0s\n",
      "[CV] END ....................C=0.1, gamma=0.1, kernel=linear; total time=   0.0s\n",
      "[CV] END ....................C=0.1, gamma=0.1, kernel=linear; total time=   0.0s\n",
      "[CV] END ....................C=0.1, gamma=0.1, kernel=linear; total time=   0.0s\n",
      "[CV] END ....................C=0.1, gamma=0.1, kernel=linear; total time=   0.0s\n",
      "[CV] END ....................C=0.1, gamma=0.1, kernel=linear; total time=   0.0s\n",
      "[CV] END ......................C=0.1, gamma=0.01, kernel=rbf; total time=   0.0s\n",
      "[CV] END ......................C=0.1, gamma=0.01, kernel=rbf; total time=   0.0s\n",
      "[CV] END ......................C=0.1, gamma=0.01, kernel=rbf; total time=   0.0s\n",
      "[CV] END ......................C=0.1, gamma=0.01, kernel=rbf; total time=   0.0s\n",
      "[CV] END ......................C=0.1, gamma=0.01, kernel=rbf; total time=   0.0s\n",
      "[CV] END ...................C=0.1, gamma=0.01, kernel=linear; total time=   0.0s\n",
      "[CV] END ...................C=0.1, gamma=0.01, kernel=linear; total time=   0.0s\n",
      "[CV] END ...................C=0.1, gamma=0.01, kernel=linear; total time=   0.0s\n",
      "[CV] END ...................C=0.1, gamma=0.01, kernel=linear; total time=   0.0s\n",
      "[CV] END ...................C=0.1, gamma=0.01, kernel=linear; total time=   0.0s\n",
      "[CV] END .....................C=0.1, gamma=0.001, kernel=rbf; total time=   0.0s\n",
      "[CV] END .....................C=0.1, gamma=0.001, kernel=rbf; total time=   0.0s\n",
      "[CV] END .....................C=0.1, gamma=0.001, kernel=rbf; total time=   0.0s\n",
      "[CV] END .....................C=0.1, gamma=0.001, kernel=rbf; total time=   0.0s\n",
      "[CV] END .....................C=0.1, gamma=0.001, kernel=rbf; total time=   0.0s\n",
      "[CV] END ..................C=0.1, gamma=0.001, kernel=linear; total time=   0.0s\n",
      "[CV] END ..................C=0.1, gamma=0.001, kernel=linear; total time=   0.0s\n",
      "[CV] END ..................C=0.1, gamma=0.001, kernel=linear; total time=   0.0s\n",
      "[CV] END ..................C=0.1, gamma=0.001, kernel=linear; total time=   0.0s\n",
      "[CV] END ..................C=0.1, gamma=0.001, kernel=linear; total time=   0.0s\n",
      "[CV] END ...........................C=1, gamma=1, kernel=rbf; total time=   0.0s\n",
      "[CV] END ...........................C=1, gamma=1, kernel=rbf; total time=   0.0s\n",
      "[CV] END ...........................C=1, gamma=1, kernel=rbf; total time=   0.0s\n",
      "[CV] END ...........................C=1, gamma=1, kernel=rbf; total time=   0.0s\n",
      "[CV] END ...........................C=1, gamma=1, kernel=rbf; total time=   0.0s\n",
      "[CV] END ........................C=1, gamma=1, kernel=linear; total time=   0.0s\n",
      "[CV] END ........................C=1, gamma=1, kernel=linear; total time=   0.0s\n",
      "[CV] END ........................C=1, gamma=1, kernel=linear; total time=   0.0s\n",
      "[CV] END ........................C=1, gamma=1, kernel=linear; total time=   0.0s\n",
      "[CV] END ........................C=1, gamma=1, kernel=linear; total time=   0.0s\n",
      "[CV] END .........................C=1, gamma=0.1, kernel=rbf; total time=   0.0s\n",
      "[CV] END .........................C=1, gamma=0.1, kernel=rbf; total time=   0.0s\n",
      "[CV] END .........................C=1, gamma=0.1, kernel=rbf; total time=   0.0s\n",
      "[CV] END .........................C=1, gamma=0.1, kernel=rbf; total time=   0.0s\n",
      "[CV] END .........................C=1, gamma=0.1, kernel=rbf; total time=   0.0s\n",
      "[CV] END ......................C=1, gamma=0.1, kernel=linear; total time=   0.0s\n",
      "[CV] END ......................C=1, gamma=0.1, kernel=linear; total time=   0.0s\n",
      "[CV] END ......................C=1, gamma=0.1, kernel=linear; total time=   0.0s\n",
      "[CV] END ......................C=1, gamma=0.1, kernel=linear; total time=   0.0s\n",
      "[CV] END ......................C=1, gamma=0.1, kernel=linear; total time=   0.0s\n",
      "[CV] END ........................C=1, gamma=0.01, kernel=rbf; total time=   0.0s\n",
      "[CV] END ........................C=1, gamma=0.01, kernel=rbf; total time=   0.0s\n",
      "[CV] END ........................C=1, gamma=0.01, kernel=rbf; total time=   0.0s\n",
      "[CV] END ........................C=1, gamma=0.01, kernel=rbf; total time=   0.0s\n",
      "[CV] END ........................C=1, gamma=0.01, kernel=rbf; total time=   0.0s\n",
      "[CV] END .....................C=1, gamma=0.01, kernel=linear; total time=   0.0s\n",
      "[CV] END .....................C=1, gamma=0.01, kernel=linear; total time=   0.0s\n",
      "[CV] END .....................C=1, gamma=0.01, kernel=linear; total time=   0.0s\n",
      "[CV] END .....................C=1, gamma=0.01, kernel=linear; total time=   0.0s\n",
      "[CV] END .....................C=1, gamma=0.01, kernel=linear; total time=   0.0s\n",
      "[CV] END .......................C=1, gamma=0.001, kernel=rbf; total time=   0.0s\n",
      "[CV] END .......................C=1, gamma=0.001, kernel=rbf; total time=   0.0s\n",
      "[CV] END .......................C=1, gamma=0.001, kernel=rbf; total time=   0.0s\n",
      "[CV] END .......................C=1, gamma=0.001, kernel=rbf; total time=   0.0s\n",
      "[CV] END .......................C=1, gamma=0.001, kernel=rbf; total time=   0.0s\n",
      "[CV] END ....................C=1, gamma=0.001, kernel=linear; total time=   0.0s\n",
      "[CV] END ....................C=1, gamma=0.001, kernel=linear; total time=   0.0s\n",
      "[CV] END ....................C=1, gamma=0.001, kernel=linear; total time=   0.0s\n",
      "[CV] END ....................C=1, gamma=0.001, kernel=linear; total time=   0.0s\n",
      "[CV] END ....................C=1, gamma=0.001, kernel=linear; total time=   0.0s\n",
      "[CV] END ..........................C=10, gamma=1, kernel=rbf; total time=   0.0s\n",
      "[CV] END ..........................C=10, gamma=1, kernel=rbf; total time=   0.0s\n",
      "[CV] END ..........................C=10, gamma=1, kernel=rbf; total time=   0.0s\n",
      "[CV] END ..........................C=10, gamma=1, kernel=rbf; total time=   0.0s\n",
      "[CV] END ..........................C=10, gamma=1, kernel=rbf; total time=   0.0s\n",
      "[CV] END .......................C=10, gamma=1, kernel=linear; total time=   0.0s\n",
      "[CV] END .......................C=10, gamma=1, kernel=linear; total time=   0.0s\n",
      "[CV] END .......................C=10, gamma=1, kernel=linear; total time=   0.0s\n",
      "[CV] END .......................C=10, gamma=1, kernel=linear; total time=   0.0s\n",
      "[CV] END .......................C=10, gamma=1, kernel=linear; total time=   0.0s\n",
      "[CV] END ........................C=10, gamma=0.1, kernel=rbf; total time=   0.0s\n",
      "[CV] END ........................C=10, gamma=0.1, kernel=rbf; total time=   0.0s\n",
      "[CV] END ........................C=10, gamma=0.1, kernel=rbf; total time=   0.0s\n",
      "[CV] END ........................C=10, gamma=0.1, kernel=rbf; total time=   0.0s\n",
      "[CV] END ........................C=10, gamma=0.1, kernel=rbf; total time=   0.0s\n",
      "[CV] END .....................C=10, gamma=0.1, kernel=linear; total time=   0.0s\n",
      "[CV] END .....................C=10, gamma=0.1, kernel=linear; total time=   0.0s\n",
      "[CV] END .....................C=10, gamma=0.1, kernel=linear; total time=   0.0s\n",
      "[CV] END .....................C=10, gamma=0.1, kernel=linear; total time=   0.0s\n",
      "[CV] END .....................C=10, gamma=0.1, kernel=linear; total time=   0.0s\n",
      "[CV] END .......................C=10, gamma=0.01, kernel=rbf; total time=   0.0s\n",
      "[CV] END .......................C=10, gamma=0.01, kernel=rbf; total time=   0.0s\n",
      "[CV] END .......................C=10, gamma=0.01, kernel=rbf; total time=   0.0s\n",
      "[CV] END .......................C=10, gamma=0.01, kernel=rbf; total time=   0.0s\n",
      "[CV] END .......................C=10, gamma=0.01, kernel=rbf; total time=   0.0s\n",
      "[CV] END ....................C=10, gamma=0.01, kernel=linear; total time=   0.0s\n",
      "[CV] END ....................C=10, gamma=0.01, kernel=linear; total time=   0.0s\n",
      "[CV] END ....................C=10, gamma=0.01, kernel=linear; total time=   0.0s\n",
      "[CV] END ....................C=10, gamma=0.01, kernel=linear; total time=   0.0s\n",
      "[CV] END ....................C=10, gamma=0.01, kernel=linear; total time=   0.0s\n",
      "[CV] END ......................C=10, gamma=0.001, kernel=rbf; total time=   0.0s\n",
      "[CV] END ......................C=10, gamma=0.001, kernel=rbf; total time=   0.0s\n",
      "[CV] END ......................C=10, gamma=0.001, kernel=rbf; total time=   0.0s\n",
      "[CV] END ......................C=10, gamma=0.001, kernel=rbf; total time=   0.0s\n",
      "[CV] END ......................C=10, gamma=0.001, kernel=rbf; total time=   0.0s\n",
      "[CV] END ...................C=10, gamma=0.001, kernel=linear; total time=   0.0s\n",
      "[CV] END ...................C=10, gamma=0.001, kernel=linear; total time=   0.0s\n",
      "[CV] END ...................C=10, gamma=0.001, kernel=linear; total time=   0.0s\n",
      "[CV] END ...................C=10, gamma=0.001, kernel=linear; total time=   0.0s\n",
      "[CV] END ...................C=10, gamma=0.001, kernel=linear; total time=   0.0s\n",
      "[CV] END .........................C=100, gamma=1, kernel=rbf; total time=   0.0s\n",
      "[CV] END .........................C=100, gamma=1, kernel=rbf; total time=   0.0s\n",
      "[CV] END .........................C=100, gamma=1, kernel=rbf; total time=   0.0s\n",
      "[CV] END .........................C=100, gamma=1, kernel=rbf; total time=   0.0s\n",
      "[CV] END .........................C=100, gamma=1, kernel=rbf; total time=   0.0s\n",
      "[CV] END ......................C=100, gamma=1, kernel=linear; total time=   0.0s\n",
      "[CV] END ......................C=100, gamma=1, kernel=linear; total time=   0.0s\n",
      "[CV] END ......................C=100, gamma=1, kernel=linear; total time=   0.0s\n",
      "[CV] END ......................C=100, gamma=1, kernel=linear; total time=   0.0s\n",
      "[CV] END ......................C=100, gamma=1, kernel=linear; total time=   0.0s\n",
      "[CV] END .......................C=100, gamma=0.1, kernel=rbf; total time=   0.0s\n",
      "[CV] END .......................C=100, gamma=0.1, kernel=rbf; total time=   0.0s\n",
      "[CV] END .......................C=100, gamma=0.1, kernel=rbf; total time=   0.0s\n",
      "[CV] END .......................C=100, gamma=0.1, kernel=rbf; total time=   0.0s\n",
      "[CV] END .......................C=100, gamma=0.1, kernel=rbf; total time=   0.0s\n",
      "[CV] END ....................C=100, gamma=0.1, kernel=linear; total time=   0.0s\n",
      "[CV] END ....................C=100, gamma=0.1, kernel=linear; total time=   0.0s\n",
      "[CV] END ....................C=100, gamma=0.1, kernel=linear; total time=   0.0s\n",
      "[CV] END ....................C=100, gamma=0.1, kernel=linear; total time=   0.0s\n",
      "[CV] END ....................C=100, gamma=0.1, kernel=linear; total time=   0.0s\n",
      "[CV] END ......................C=100, gamma=0.01, kernel=rbf; total time=   0.0s\n",
      "[CV] END ......................C=100, gamma=0.01, kernel=rbf; total time=   0.0s\n",
      "[CV] END ......................C=100, gamma=0.01, kernel=rbf; total time=   0.0s\n",
      "[CV] END ......................C=100, gamma=0.01, kernel=rbf; total time=   0.0s\n",
      "[CV] END ......................C=100, gamma=0.01, kernel=rbf; total time=   0.0s\n",
      "[CV] END ...................C=100, gamma=0.01, kernel=linear; total time=   0.0s\n",
      "[CV] END ...................C=100, gamma=0.01, kernel=linear; total time=   0.0s\n",
      "[CV] END ...................C=100, gamma=0.01, kernel=linear; total time=   0.0s\n",
      "[CV] END ...................C=100, gamma=0.01, kernel=linear; total time=   0.0s\n",
      "[CV] END ...................C=100, gamma=0.01, kernel=linear; total time=   0.0s\n",
      "[CV] END .....................C=100, gamma=0.001, kernel=rbf; total time=   0.0s\n",
      "[CV] END .....................C=100, gamma=0.001, kernel=rbf; total time=   0.0s\n",
      "[CV] END .....................C=100, gamma=0.001, kernel=rbf; total time=   0.0s\n",
      "[CV] END .....................C=100, gamma=0.001, kernel=rbf; total time=   0.0s\n",
      "[CV] END .....................C=100, gamma=0.001, kernel=rbf; total time=   0.0s\n",
      "[CV] END ..................C=100, gamma=0.001, kernel=linear; total time=   0.0s\n",
      "[CV] END ..................C=100, gamma=0.001, kernel=linear; total time=   0.0s\n",
      "[CV] END ..................C=100, gamma=0.001, kernel=linear; total time=   0.0s\n",
      "[CV] END ..................C=100, gamma=0.001, kernel=linear; total time=   0.0s\n",
      "[CV] END ..................C=100, gamma=0.001, kernel=linear; total time=   0.0s\n",
      "\n",
      "\n",
      "{'C': 1, 'gamma': 1, 'kernel': 'rbf'}\n"
     ]
    }
   ],
   "source": [
    "from sklearn.svm import SVC\n",
    "from sklearn.model_selection import GridSearchCV\n",
    "\n",
    "param_grid = {'C': [0.1, 1, 10, 100],\n",
    "              'gamma': [1, 0.1, 0.01, 0.001],\n",
    "              'kernel': ['rbf', 'linear']}\n",
    "\n",
    "grid = GridSearchCV(SVC(), param_grid, refit=True, verbose=2)\n",
    "grid.fit(X_train, y_train)\n",
    "\n",
    "print(\"\\n\")\n",
    "print(grid.best_params_)  "
   ]
  },
  {
   "cell_type": "code",
   "execution_count": 24,
   "id": "f370d9ed-c984-4403-94eb-fb09d3295182",
   "metadata": {},
   "outputs": [
    {
     "data": {
      "text/html": [
       "<style>#sk-container-id-2 {color: black;background-color: white;}#sk-container-id-2 pre{padding: 0;}#sk-container-id-2 div.sk-toggleable {background-color: white;}#sk-container-id-2 label.sk-toggleable__label {cursor: pointer;display: block;width: 100%;margin-bottom: 0;padding: 0.3em;box-sizing: border-box;text-align: center;}#sk-container-id-2 label.sk-toggleable__label-arrow:before {content: \"▸\";float: left;margin-right: 0.25em;color: #696969;}#sk-container-id-2 label.sk-toggleable__label-arrow:hover:before {color: black;}#sk-container-id-2 div.sk-estimator:hover label.sk-toggleable__label-arrow:before {color: black;}#sk-container-id-2 div.sk-toggleable__content {max-height: 0;max-width: 0;overflow: hidden;text-align: left;background-color: #f0f8ff;}#sk-container-id-2 div.sk-toggleable__content pre {margin: 0.2em;color: black;border-radius: 0.25em;background-color: #f0f8ff;}#sk-container-id-2 input.sk-toggleable__control:checked~div.sk-toggleable__content {max-height: 200px;max-width: 100%;overflow: auto;}#sk-container-id-2 input.sk-toggleable__control:checked~label.sk-toggleable__label-arrow:before {content: \"▾\";}#sk-container-id-2 div.sk-estimator input.sk-toggleable__control:checked~label.sk-toggleable__label {background-color: #d4ebff;}#sk-container-id-2 div.sk-label input.sk-toggleable__control:checked~label.sk-toggleable__label {background-color: #d4ebff;}#sk-container-id-2 input.sk-hidden--visually {border: 0;clip: rect(1px 1px 1px 1px);clip: rect(1px, 1px, 1px, 1px);height: 1px;margin: -1px;overflow: hidden;padding: 0;position: absolute;width: 1px;}#sk-container-id-2 div.sk-estimator {font-family: monospace;background-color: #f0f8ff;border: 1px dotted black;border-radius: 0.25em;box-sizing: border-box;margin-bottom: 0.5em;}#sk-container-id-2 div.sk-estimator:hover {background-color: #d4ebff;}#sk-container-id-2 div.sk-parallel-item::after {content: \"\";width: 100%;border-bottom: 1px solid gray;flex-grow: 1;}#sk-container-id-2 div.sk-label:hover label.sk-toggleable__label {background-color: #d4ebff;}#sk-container-id-2 div.sk-serial::before {content: \"\";position: absolute;border-left: 1px solid gray;box-sizing: border-box;top: 0;bottom: 0;left: 50%;z-index: 0;}#sk-container-id-2 div.sk-serial {display: flex;flex-direction: column;align-items: center;background-color: white;padding-right: 0.2em;padding-left: 0.2em;position: relative;}#sk-container-id-2 div.sk-item {position: relative;z-index: 1;}#sk-container-id-2 div.sk-parallel {display: flex;align-items: stretch;justify-content: center;background-color: white;position: relative;}#sk-container-id-2 div.sk-item::before, #sk-container-id-2 div.sk-parallel-item::before {content: \"\";position: absolute;border-left: 1px solid gray;box-sizing: border-box;top: 0;bottom: 0;left: 50%;z-index: -1;}#sk-container-id-2 div.sk-parallel-item {display: flex;flex-direction: column;z-index: 1;position: relative;background-color: white;}#sk-container-id-2 div.sk-parallel-item:first-child::after {align-self: flex-end;width: 50%;}#sk-container-id-2 div.sk-parallel-item:last-child::after {align-self: flex-start;width: 50%;}#sk-container-id-2 div.sk-parallel-item:only-child::after {width: 0;}#sk-container-id-2 div.sk-dashed-wrapped {border: 1px dashed gray;margin: 0 0.4em 0.5em 0.4em;box-sizing: border-box;padding-bottom: 0.4em;background-color: white;}#sk-container-id-2 div.sk-label label {font-family: monospace;font-weight: bold;display: inline-block;line-height: 1.2em;}#sk-container-id-2 div.sk-label-container {text-align: center;}#sk-container-id-2 div.sk-container {/* jupyter's `normalize.less` sets `[hidden] { display: none; }` but bootstrap.min.css set `[hidden] { display: none !important; }` so we also need the `!important` here to be able to override the default hidden behavior on the sphinx rendered scikit-learn.org. See: https://github.com/scikit-learn/scikit-learn/issues/21755 */display: inline-block !important;position: relative;}#sk-container-id-2 div.sk-text-repr-fallback {display: none;}</style><div id=\"sk-container-id-2\" class=\"sk-top-container\"><div class=\"sk-text-repr-fallback\"><pre>SVC(C=1, gamma=1)</pre><b>In a Jupyter environment, please rerun this cell to show the HTML representation or trust the notebook. <br />On GitHub, the HTML representation is unable to render, please try loading this page with nbviewer.org.</b></div><div class=\"sk-container\" hidden><div class=\"sk-item\"><div class=\"sk-estimator sk-toggleable\"><input class=\"sk-toggleable__control sk-hidden--visually\" id=\"sk-estimator-id-2\" type=\"checkbox\" checked><label for=\"sk-estimator-id-2\" class=\"sk-toggleable__label sk-toggleable__label-arrow\">SVC</label><div class=\"sk-toggleable__content\"><pre>SVC(C=1, gamma=1)</pre></div></div></div></div></div>"
      ],
      "text/plain": [
       "SVC(C=1, gamma=1)"
      ]
     },
     "execution_count": 24,
     "metadata": {},
     "output_type": "execute_result"
    }
   ],
   "source": [
    "svcmodel = SVC(kernel='rbf', C=1, gamma=1)  \n",
    "svcmodel.fit(X_train, y_train)"
   ]
  },
  {
   "cell_type": "markdown",
   "id": "ab294ed5-39f8-4d27-8b8b-b6027be71973",
   "metadata": {},
   "source": [
    "<h2>Predictions and Evaluation</h2> "
   ]
  },
  {
   "cell_type": "markdown",
   "id": "bce03223-265c-464c-aa63-9eb4241a8bb0",
   "metadata": {},
   "source": [
    "<h4>Random Forest model</h4>"
   ]
  },
  {
   "cell_type": "code",
   "execution_count": 25,
   "id": "570a356b-dcf4-4205-a84c-1d6126bdcd87",
   "metadata": {},
   "outputs": [
    {
     "name": "stdout",
     "output_type": "stream",
     "text": [
      "Random Forest model:\n",
      "\n",
      "\n",
      "              precision    recall  f1-score   support\n",
      "\n",
      "           0       0.68      0.89      0.77       105\n",
      "           1       0.57      0.27      0.37        59\n",
      "\n",
      "    accuracy                           0.66       164\n",
      "   macro avg       0.63      0.58      0.57       164\n",
      "weighted avg       0.64      0.66      0.63       164\n",
      "\n",
      "\n",
      "\n",
      "[[93 12]\n",
      " [43 16]]\n"
     ]
    }
   ],
   "source": [
    "from sklearn.metrics import classification_report,confusion_matrix\n",
    "\n",
    "predictions = best_rf.predict(X_test)\n",
    "\n",
    "print(\"Random Forest model:\")\n",
    "print(\"\\n\")\n",
    "print(classification_report(y_test,predictions))\n",
    "print(\"\\n\")\n",
    "print(confusion_matrix(y_test,predictions))"
   ]
  },
  {
   "cell_type": "markdown",
   "id": "c119ade8-9abb-4be2-9747-aa4532f3c845",
   "metadata": {},
   "source": [
    "<h4>LogisticRegression model</h4>"
   ]
  },
  {
   "cell_type": "code",
   "execution_count": 26,
   "id": "7f952c84-3227-4a00-9b53-cd0373e9159c",
   "metadata": {},
   "outputs": [
    {
     "name": "stdout",
     "output_type": "stream",
     "text": [
      "LogisticRegression model:\n",
      "\n",
      "\n",
      "              precision    recall  f1-score   support\n",
      "\n",
      "           0       0.67      0.84      0.74       105\n",
      "           1       0.47      0.25      0.33        59\n",
      "\n",
      "    accuracy                           0.63       164\n",
      "   macro avg       0.57      0.55      0.54       164\n",
      "weighted avg       0.60      0.63      0.59       164\n",
      "\n",
      "\n",
      "\n",
      "[[88 17]\n",
      " [44 15]]\n"
     ]
    }
   ],
   "source": [
    "predictions = logmodel.predict(X_test)\n",
    "\n",
    "print(\"LogisticRegression model:\")\n",
    "print(\"\\n\")\n",
    "print(classification_report(y_test,predictions))\n",
    "print(\"\\n\")\n",
    "print(confusion_matrix(y_test,predictions))"
   ]
  },
  {
   "cell_type": "markdown",
   "id": "58c7b494-bb57-4ff3-9b25-c30bc525bbbe",
   "metadata": {},
   "source": [
    "<h4>Support Vector Classification model</h4>"
   ]
  },
  {
   "cell_type": "code",
   "execution_count": 27,
   "id": "d5e699c6-10b8-4859-b86d-41ea6d2b78db",
   "metadata": {},
   "outputs": [
    {
     "name": "stdout",
     "output_type": "stream",
     "text": [
      "LogisticRegression model:\n",
      "\n",
      "\n",
      "              precision    recall  f1-score   support\n",
      "\n",
      "           0       0.65      0.97      0.78       105\n",
      "           1       0.50      0.05      0.09        59\n",
      "\n",
      "    accuracy                           0.64       164\n",
      "   macro avg       0.57      0.51      0.43       164\n",
      "weighted avg       0.59      0.64      0.53       164\n",
      "\n",
      "\n",
      "\n",
      "[[102   3]\n",
      " [ 56   3]]\n"
     ]
    }
   ],
   "source": [
    "predictions = svcmodel.predict(X_test)\n",
    "\n",
    "print(\"LogisticRegression model:\")\n",
    "print(\"\\n\")\n",
    "print(classification_report(y_test,predictions))\n",
    "print(\"\\n\")\n",
    "print(confusion_matrix(y_test,predictions))"
   ]
  },
  {
   "cell_type": "markdown",
   "id": "dced6826-5c34-4ea1-8893-c9fbf53367ab",
   "metadata": {},
   "source": [
    "<h2>Summary</h2>"
   ]
  },
  {
   "cell_type": "markdown",
   "id": "6be0060b-d0a7-4e87-b3c1-b1b39b3b198a",
   "metadata": {},
   "source": [
    "#### Random Forest model\n",
    "\n",
    "- **Accuracy**: 68%\n",
    "- **Precision (Purchase Prediction)**: 65%\n",
    "- **Recall (Identifying Actual Purchase)**: 60%\n",
    "- **F1-Score (Balance of Precision and Recall)**: 60%"
   ]
  },
  {
   "cell_type": "markdown",
   "id": "a562c241-790e-4031-8d97-923aeeca77da",
   "metadata": {},
   "source": [
    "#### LogisticRegression model\n",
    "\n",
    "- **Accuracy**: 63%\n",
    "- **Precision (Purchase Prediction)**: 57%\n",
    "- **Recall (Identifying Actual Purchase)**: 55%\n",
    "- **F1-Score (Balance of Precision and Recall)**: 54%"
   ]
  },
  {
   "cell_type": "markdown",
   "id": "242b52f4-6278-4286-903b-213c02bfe155",
   "metadata": {},
   "source": [
    "#### Support Vector Classification model\n",
    "\n",
    "- **Accuracy**: 64%\n",
    "- **Precision (Purchase Prediction)**: 57%\n",
    "- **Recall (Identifying Actual Purchase)**: 51%\n",
    "- **F1-Score (Balance of Precision and Recall)**: 43%"
   ]
  }
 ],
 "metadata": {
  "kernelspec": {
   "display_name": "Python 3 (ipykernel)",
   "language": "python",
   "name": "python3"
  },
  "language_info": {
   "codemirror_mode": {
    "name": "ipython",
    "version": 3
   },
   "file_extension": ".py",
   "mimetype": "text/x-python",
   "name": "python",
   "nbconvert_exporter": "python",
   "pygments_lexer": "ipython3",
   "version": "3.11.7"
  }
 },
 "nbformat": 4,
 "nbformat_minor": 5
}
