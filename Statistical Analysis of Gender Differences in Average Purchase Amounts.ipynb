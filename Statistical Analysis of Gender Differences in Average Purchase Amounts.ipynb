{
 "cells": [
  {
   "cell_type": "markdown",
   "id": "91c8e482-ec88-4853-b78e-2242f020820e",
   "metadata": {},
   "source": [
    "# **Statistical Analysis of Gender Differences in Average Purchase Amounts**"
   ]
  },
  {
   "cell_type": "markdown",
   "id": "838d2ddf-238a-4cef-aab2-207407152580",
   "metadata": {},
   "source": [
    "## **Import packages and load data**"
   ]
  },
  {
   "cell_type": "code",
   "execution_count": 1,
   "id": "d616bd7e-178f-4840-a5fc-d57e9409f710",
   "metadata": {},
   "outputs": [
    {
     "data": {
      "text/html": [
       "<div>\n",
       "<style scoped>\n",
       "    .dataframe tbody tr th:only-of-type {\n",
       "        vertical-align: middle;\n",
       "    }\n",
       "\n",
       "    .dataframe tbody tr th {\n",
       "        vertical-align: top;\n",
       "    }\n",
       "\n",
       "    .dataframe thead th {\n",
       "        text-align: right;\n",
       "    }\n",
       "</style>\n",
       "<table border=\"1\" class=\"dataframe\">\n",
       "  <thead>\n",
       "    <tr style=\"text-align: right;\">\n",
       "      <th></th>\n",
       "      <th>User_ID</th>\n",
       "      <th>Product_ID</th>\n",
       "      <th>Gender</th>\n",
       "      <th>Age</th>\n",
       "      <th>Occupation</th>\n",
       "      <th>City_Category</th>\n",
       "      <th>Stay_In_Current_City_Years</th>\n",
       "      <th>Marital_Status</th>\n",
       "      <th>Product_Category</th>\n",
       "      <th>Purchase</th>\n",
       "    </tr>\n",
       "  </thead>\n",
       "  <tbody>\n",
       "    <tr>\n",
       "      <th>0</th>\n",
       "      <td>1000001</td>\n",
       "      <td>P00069042</td>\n",
       "      <td>F</td>\n",
       "      <td>0-17</td>\n",
       "      <td>10</td>\n",
       "      <td>A</td>\n",
       "      <td>2</td>\n",
       "      <td>0</td>\n",
       "      <td>3</td>\n",
       "      <td>8370</td>\n",
       "    </tr>\n",
       "    <tr>\n",
       "      <th>1</th>\n",
       "      <td>1000001</td>\n",
       "      <td>P00248942</td>\n",
       "      <td>F</td>\n",
       "      <td>0-17</td>\n",
       "      <td>10</td>\n",
       "      <td>A</td>\n",
       "      <td>2</td>\n",
       "      <td>0</td>\n",
       "      <td>1</td>\n",
       "      <td>15200</td>\n",
       "    </tr>\n",
       "    <tr>\n",
       "      <th>2</th>\n",
       "      <td>1000001</td>\n",
       "      <td>P00087842</td>\n",
       "      <td>F</td>\n",
       "      <td>0-17</td>\n",
       "      <td>10</td>\n",
       "      <td>A</td>\n",
       "      <td>2</td>\n",
       "      <td>0</td>\n",
       "      <td>12</td>\n",
       "      <td>1422</td>\n",
       "    </tr>\n",
       "    <tr>\n",
       "      <th>3</th>\n",
       "      <td>1000001</td>\n",
       "      <td>P00085442</td>\n",
       "      <td>F</td>\n",
       "      <td>0-17</td>\n",
       "      <td>10</td>\n",
       "      <td>A</td>\n",
       "      <td>2</td>\n",
       "      <td>0</td>\n",
       "      <td>12</td>\n",
       "      <td>1057</td>\n",
       "    </tr>\n",
       "    <tr>\n",
       "      <th>4</th>\n",
       "      <td>1000002</td>\n",
       "      <td>P00285442</td>\n",
       "      <td>M</td>\n",
       "      <td>55+</td>\n",
       "      <td>16</td>\n",
       "      <td>C</td>\n",
       "      <td>4+</td>\n",
       "      <td>0</td>\n",
       "      <td>8</td>\n",
       "      <td>7969</td>\n",
       "    </tr>\n",
       "  </tbody>\n",
       "</table>\n",
       "</div>"
      ],
      "text/plain": [
       "   User_ID Product_ID Gender   Age  Occupation City_Category  \\\n",
       "0  1000001  P00069042      F  0-17          10             A   \n",
       "1  1000001  P00248942      F  0-17          10             A   \n",
       "2  1000001  P00087842      F  0-17          10             A   \n",
       "3  1000001  P00085442      F  0-17          10             A   \n",
       "4  1000002  P00285442      M   55+          16             C   \n",
       "\n",
       "  Stay_In_Current_City_Years  Marital_Status  Product_Category  Purchase  \n",
       "0                          2               0                 3      8370  \n",
       "1                          2               0                 1     15200  \n",
       "2                          2               0                12      1422  \n",
       "3                          2               0                12      1057  \n",
       "4                         4+               0                 8      7969  "
      ]
     },
     "execution_count": 1,
     "metadata": {},
     "output_type": "execute_result"
    }
   ],
   "source": [
    "import pandas as pd\n",
    "import numpy as np\n",
    "import matplotlib.pyplot as plt\n",
    "\n",
    "df = pd.read_csv('walmart.csv')\n",
    "df.head()"
   ]
  },
  {
   "cell_type": "markdown",
   "id": "fc38d9df-f6f4-491e-9f7b-0ac3b50a783d",
   "metadata": {},
   "source": [
    "## **Visualizing Gender Differences in Average Purchase Amounts**"
   ]
  },
  {
   "cell_type": "code",
   "execution_count": 2,
   "id": "bf695826-1d3a-4326-b7ce-4b0d3ce36655",
   "metadata": {},
   "outputs": [
    {
     "data": {
      "image/png": "[encoded data removed]",
      "text/plain": [
       "<Figure size 600x400 with 1 Axes>"
      ]
     },
     "metadata": {},
     "output_type": "display_data"
    }
   ],
   "source": [
    "male_purchases = df[df[\"Gender\"] == \"M\"][\"Purchase\"]\n",
    "female_purchases = df[df[\"Gender\"] == \"F\"][\"Purchase\"]\n",
    "\n",
    "mean_male = male_purchases.mean()\n",
    "mean_female = female_purchases.mean()\n",
    "\n",
    "# Define categories and means\n",
    "categories = ['Male', 'Female']\n",
    "means = [mean_male, mean_female]\n",
    "\n",
    "# Create the bar chart\n",
    "plt.figure(figsize=(6, 4))\n",
    "plt.bar(categories, means, color=['blue', 'red'], alpha=0.7)\n",
    "plt.title('Gender Differences in Average Purchase Amounts', fontsize=12)\n",
    "plt.ylabel('Average Purchase Amount', fontsize=12)\n",
    "plt.xlabel('Gender', fontsize=12)\n",
    "\n",
    "# Add numeric labels on bars\n",
    "for i, mean in enumerate(means):\n",
    "    plt.text(i, mean + 45, f'{mean:.2f}', ha='center', fontsize=10)  \n",
    "# Show the plot\n",
    "plt.tight_layout()\n",
    "plt.show()"
   ]
  },
  {
   "cell_type": "markdown",
   "id": "508d6749-af86-4b30-b68c-c5371f2ba548",
   "metadata": {},
   "source": [
    "## **Statistical Analysis of Gender Differences in Average Purchase Amounts**"
   ]
  },
  {
   "cell_type": "code",
   "execution_count": 3,
   "id": "4a6e6832-61ba-4206-aeba-3dd6cf5014e0",
   "metadata": {},
   "outputs": [
    {
     "name": "stdout",
     "output_type": "stream",
     "text": [
      "Z-statistic: 46.358249\n",
      "P-value: 0.0000000000\n",
      "Reject the null hypothesis: There is a significant difference in average purchase between genders.\n"
     ]
    }
   ],
   "source": [
    "from scipy.stats import norm\n",
    "\n",
    "# Ensure there are no missing values in the Purchase column\n",
    "male_purchases = df[df[\"Gender\"] == \"M\"][\"Purchase\"].dropna()\n",
    "female_purchases = df[df[\"Gender\"] == \"F\"][\"Purchase\"].dropna()\n",
    "\n",
    "# Calculate statistics\n",
    "mean_male = male_purchases.mean()\n",
    "mean_female = female_purchases.mean()\n",
    "std_male = male_purchases.std()  # Sample standard deviation\n",
    "std_female = female_purchases.std()\n",
    "n_male = male_purchases.count()\n",
    "n_female = female_purchases.count()\n",
    "\n",
    "# Check if sample sizes are large enough for a Z-test\n",
    "if n_male > 30 and n_female > 30:\n",
    "    # Z-test statistic\n",
    "    z = (mean_male - mean_female) / np.sqrt((std_male**2 / n_male) + (std_female**2 / n_female))\n",
    "\n",
    "    # One-tailed p-value (assuming we hypothesize that mean_male > mean_female)\n",
    "    p_value = 1 - norm.cdf(z)\n",
    "\n",
    "    # Print results with more decimal places\n",
    "    print(f\"Z-statistic: {z:.6f}\")\n",
    "    print(f\"P-value: {p_value:.10f}\")\n",
    "\n",
    "    # Interpretation\n",
    "    if p_value < 0.05:\n",
    "        print(\"Reject the null hypothesis: There is a significant difference in average purchase between genders.\")\n",
    "    else:\n",
    "        print(\"Fail to reject the null hypothesis: No significant difference in average purchase between genders.\")\n",
    "else:\n",
    "    print(\"Sample sizes are too small for a Z-test. Consider using a t-test instead.\")"
   ]
  }
 ],
 "metadata": {
  "kernelspec": {
   "display_name": "Python 3 (ipykernel)",
   "language": "python",
   "name": "python3"
  },
  "language_info": {
   "codemirror_mode": {
    "name": "ipython",
    "version": 3
   },
   "file_extension": ".py",
   "mimetype": "text/x-python",
   "name": "python",
   "nbconvert_exporter": "python",
   "pygments_lexer": "ipython3",
   "version": "3.11.7"
  }
 },
 "nbformat": 4,
 "nbformat_minor": 5
}
