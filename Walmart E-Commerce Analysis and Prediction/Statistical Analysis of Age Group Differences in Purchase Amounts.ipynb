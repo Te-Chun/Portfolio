{
 "cells": [
  {
   "attachments": {},
   "cell_type": "markdown",
   "id": "78748e04-d208-4f93-91a8-2caca3a13886",
   "metadata": {},
   "source": [
    "# **Statistical Analysis of Age Group Differences in Purchase Amounts**"
   ]
  },
  {
   "cell_type": "markdown",
   "id": "933fec2a-2a03-4aa4-b065-4e39c61d3bdf",
   "metadata": {},
   "source": [
    "<h4 style=\"font-size:24px; line-height:1.5; padding:5px;\">\n",
    "<b>Import packages and load data</b>\n",
    "</h4>"
   ]
  },
  {
   "cell_type": "code",
   "execution_count": 1,
   "id": "da20bbd4-8a7d-42b8-8853-3b02c48875ed",
   "metadata": {},
   "outputs": [
    {
     "data": {
      "text/html": [
       "<div>\n",
       "<style scoped>\n",
       "    .dataframe tbody tr th:only-of-type {\n",
       "        vertical-align: middle;\n",
       "    }\n",
       "\n",
       "    .dataframe tbody tr th {\n",
       "        vertical-align: top;\n",
       "    }\n",
       "\n",
       "    .dataframe thead th {\n",
       "        text-align: right;\n",
       "    }\n",
       "</style>\n",
       "<table border=\"1\" class=\"dataframe\">\n",
       "  <thead>\n",
       "    <tr style=\"text-align: right;\">\n",
       "      <th></th>\n",
       "      <th>User_ID</th>\n",
       "      <th>Product_ID</th>\n",
       "      <th>Gender</th>\n",
       "      <th>Age</th>\n",
       "      <th>Occupation</th>\n",
       "      <th>City_Category</th>\n",
       "      <th>Stay_In_Current_City_Years</th>\n",
       "      <th>Marital_Status</th>\n",
       "      <th>Product_Category</th>\n",
       "      <th>Purchase</th>\n",
       "    </tr>\n",
       "  </thead>\n",
       "  <tbody>\n",
       "    <tr>\n",
       "      <th>0</th>\n",
       "      <td>1000001</td>\n",
       "      <td>P00069042</td>\n",
       "      <td>F</td>\n",
       "      <td>0-17</td>\n",
       "      <td>10</td>\n",
       "      <td>A</td>\n",
       "      <td>2</td>\n",
       "      <td>0</td>\n",
       "      <td>3</td>\n",
       "      <td>8370</td>\n",
       "    </tr>\n",
       "    <tr>\n",
       "      <th>1</th>\n",
       "      <td>1000001</td>\n",
       "      <td>P00248942</td>\n",
       "      <td>F</td>\n",
       "      <td>0-17</td>\n",
       "      <td>10</td>\n",
       "      <td>A</td>\n",
       "      <td>2</td>\n",
       "      <td>0</td>\n",
       "      <td>1</td>\n",
       "      <td>15200</td>\n",
       "    </tr>\n",
       "    <tr>\n",
       "      <th>2</th>\n",
       "      <td>1000001</td>\n",
       "      <td>P00087842</td>\n",
       "      <td>F</td>\n",
       "      <td>0-17</td>\n",
       "      <td>10</td>\n",
       "      <td>A</td>\n",
       "      <td>2</td>\n",
       "      <td>0</td>\n",
       "      <td>12</td>\n",
       "      <td>1422</td>\n",
       "    </tr>\n",
       "    <tr>\n",
       "      <th>3</th>\n",
       "      <td>1000001</td>\n",
       "      <td>P00085442</td>\n",
       "      <td>F</td>\n",
       "      <td>0-17</td>\n",
       "      <td>10</td>\n",
       "      <td>A</td>\n",
       "      <td>2</td>\n",
       "      <td>0</td>\n",
       "      <td>12</td>\n",
       "      <td>1057</td>\n",
       "    </tr>\n",
       "    <tr>\n",
       "      <th>4</th>\n",
       "      <td>1000002</td>\n",
       "      <td>P00285442</td>\n",
       "      <td>M</td>\n",
       "      <td>55+</td>\n",
       "      <td>16</td>\n",
       "      <td>C</td>\n",
       "      <td>4+</td>\n",
       "      <td>0</td>\n",
       "      <td>8</td>\n",
       "      <td>7969</td>\n",
       "    </tr>\n",
       "    <tr>\n",
       "      <th>...</th>\n",
       "      <td>...</td>\n",
       "      <td>...</td>\n",
       "      <td>...</td>\n",
       "      <td>...</td>\n",
       "      <td>...</td>\n",
       "      <td>...</td>\n",
       "      <td>...</td>\n",
       "      <td>...</td>\n",
       "      <td>...</td>\n",
       "      <td>...</td>\n",
       "    </tr>\n",
       "    <tr>\n",
       "      <th>550063</th>\n",
       "      <td>1006033</td>\n",
       "      <td>P00372445</td>\n",
       "      <td>M</td>\n",
       "      <td>51-55</td>\n",
       "      <td>13</td>\n",
       "      <td>B</td>\n",
       "      <td>1</td>\n",
       "      <td>1</td>\n",
       "      <td>20</td>\n",
       "      <td>368</td>\n",
       "    </tr>\n",
       "    <tr>\n",
       "      <th>550064</th>\n",
       "      <td>1006035</td>\n",
       "      <td>P00375436</td>\n",
       "      <td>F</td>\n",
       "      <td>26-35</td>\n",
       "      <td>1</td>\n",
       "      <td>C</td>\n",
       "      <td>3</td>\n",
       "      <td>0</td>\n",
       "      <td>20</td>\n",
       "      <td>371</td>\n",
       "    </tr>\n",
       "    <tr>\n",
       "      <th>550065</th>\n",
       "      <td>1006036</td>\n",
       "      <td>P00375436</td>\n",
       "      <td>F</td>\n",
       "      <td>26-35</td>\n",
       "      <td>15</td>\n",
       "      <td>B</td>\n",
       "      <td>4+</td>\n",
       "      <td>1</td>\n",
       "      <td>20</td>\n",
       "      <td>137</td>\n",
       "    </tr>\n",
       "    <tr>\n",
       "      <th>550066</th>\n",
       "      <td>1006038</td>\n",
       "      <td>P00375436</td>\n",
       "      <td>F</td>\n",
       "      <td>55+</td>\n",
       "      <td>1</td>\n",
       "      <td>C</td>\n",
       "      <td>2</td>\n",
       "      <td>0</td>\n",
       "      <td>20</td>\n",
       "      <td>365</td>\n",
       "    </tr>\n",
       "    <tr>\n",
       "      <th>550067</th>\n",
       "      <td>1006039</td>\n",
       "      <td>P00371644</td>\n",
       "      <td>F</td>\n",
       "      <td>46-50</td>\n",
       "      <td>0</td>\n",
       "      <td>B</td>\n",
       "      <td>4+</td>\n",
       "      <td>1</td>\n",
       "      <td>20</td>\n",
       "      <td>490</td>\n",
       "    </tr>\n",
       "  </tbody>\n",
       "</table>\n",
       "<p>550068 rows × 10 columns</p>\n",
       "</div>"
      ],
      "text/plain": [
       "        User_ID Product_ID Gender    Age  Occupation City_Category  \\\n",
       "0       1000001  P00069042      F   0-17          10             A   \n",
       "1       1000001  P00248942      F   0-17          10             A   \n",
       "2       1000001  P00087842      F   0-17          10             A   \n",
       "3       1000001  P00085442      F   0-17          10             A   \n",
       "4       1000002  P00285442      M    55+          16             C   \n",
       "...         ...        ...    ...    ...         ...           ...   \n",
       "550063  1006033  P00372445      M  51-55          13             B   \n",
       "550064  1006035  P00375436      F  26-35           1             C   \n",
       "550065  1006036  P00375436      F  26-35          15             B   \n",
       "550066  1006038  P00375436      F    55+           1             C   \n",
       "550067  1006039  P00371644      F  46-50           0             B   \n",
       "\n",
       "       Stay_In_Current_City_Years  Marital_Status  Product_Category  Purchase  \n",
       "0                               2               0                 3      8370  \n",
       "1                               2               0                 1     15200  \n",
       "2                               2               0                12      1422  \n",
       "3                               2               0                12      1057  \n",
       "4                              4+               0                 8      7969  \n",
       "...                           ...             ...               ...       ...  \n",
       "550063                          1               1                20       368  \n",
       "550064                          3               0                20       371  \n",
       "550065                         4+               1                20       137  \n",
       "550066                          2               0                20       365  \n",
       "550067                         4+               1                20       490  \n",
       "\n",
       "[550068 rows x 10 columns]"
      ]
     },
     "execution_count": 1,
     "metadata": {},
     "output_type": "execute_result"
    }
   ],
   "source": [
    "import pandas as pd\n",
    "import numpy as np\n",
    "import matplotlib.pyplot as plt\n",
    "import seaborn as sns\n",
    "\n",
    "df = pd.read_csv('walmart.csv')\n",
    "df"
   ]
  },
  {
   "cell_type": "markdown",
   "id": "7c52ef3e-fe6f-40c4-8f71-0abb62f28133",
   "metadata": {},
   "source": [
    "<h4 style=\"font-size:24px; line-height:1.5; padding:5px;\">\n",
    "<b>Visualize the distribution of purchases for each age group using histograms with KDE</b>\n",
    "</h4>"
   ]
  },
  {
   "cell_type": "code",
   "execution_count": 2,
   "id": "d313d7eb-af02-4dab-b49c-f96ed6bd2c69",
   "metadata": {},
   "outputs": [
    {
     "name": "stdout",
     "output_type": "stream",
     "text": [
      "['0-17' '55+' '26-35' '46-50' '51-55' '36-45' '18-25']\n"
     ]
    }
   ],
   "source": [
    "unique_ages = df[\"Age\"].unique()\n",
    "print(unique_ages)"
   ]
  },
  {
   "cell_type": "code",
   "execution_count": 3,
   "id": "7aed712e-9b19-42ee-abec-f271c14b3158",
   "metadata": {},
   "outputs": [
    {
     "name": "stderr",
     "output_type": "stream",
     "text": [
      "C:\\Users\\hankc\\anaconda3\\Lib\\site-packages\\seaborn\\_oldcore.py:1765: FutureWarning: unique with argument that is not not a Series, Index, ExtensionArray, or np.ndarray is deprecated and will raise in a future version.\n",
      "  order = pd.unique(vector)\n"
     ]
    },
    {
     "data": {
      "image/png": "[encoded data removed]",
      "text/plain": [
       "<Figure size 1000x600 with 1 Axes>"
      ]
     },
     "metadata": {},
     "output_type": "display_data"
    }
   ],
   "source": [
    "# Group by Age\n",
    "Age_1_purchases = df[df[\"Age\"] == \"0-17\"][\"Purchase\"].dropna()\n",
    "Age_2_purchases = df[df[\"Age\"] == \"18-25\"][\"Purchase\"].dropna()\n",
    "Age_3_purchases = df[df[\"Age\"] == \"26-35\"][\"Purchase\"].dropna()\n",
    "Age_4_purchases = df[df[\"Age\"] == \"36-45\"][\"Purchase\"].dropna()\n",
    "Age_5_purchases = df[df[\"Age\"] == \"46-50\"][\"Purchase\"].dropna()\n",
    "Age_6_purchases = df[df[\"Age\"] == \"51-55\"][\"Purchase\"].dropna()\n",
    "Age_7_purchases = df[df[\"Age\"] == \"55+\"][\"Purchase\"].dropna()\n",
    "\n",
    "import matplotlib.ticker as mtick\n",
    "\n",
    "# Group by Age and calculate the sum of purchases for each age group\n",
    "age_groups = [\n",
    "    Age_1_purchases.sum(), Age_2_purchases.sum(), Age_3_purchases.sum(),\n",
    "    Age_4_purchases.sum(), Age_5_purchases.sum(), Age_6_purchases.sum(), Age_7_purchases.sum()\n",
    "]\n",
    "\n",
    "# Create a list of age group labels\n",
    "age_labels = [\"0-17\", \"18-25\", \"26-35\", \"36-45\", \"46-50\", \"51-55\", \"55+\"]\n",
    "\n",
    "# Create a bar plot\n",
    "plt.figure(figsize=(10, 6))\n",
    "sns.barplot(x=age_labels, y=age_groups, palette=\"viridis\")\n",
    "\n",
    "# Format y-axis with dollar signs\n",
    "plt.gca().yaxis.set_major_formatter(mtick.StrMethodFormatter('${x:,.0f}'))\n",
    "\n",
    "# Customize the plot\n",
    "plt.title(\"Total Purchases by Age Group\")\n",
    "plt.xlabel(\"Age Group\")\n",
    "plt.ylabel(\"Total Purchase Amount\")\n",
    "plt.show()"
   ]
  },
  {
   "cell_type": "markdown",
   "id": "3c8ad061-4a4c-47db-881a-62fad0befda9",
   "metadata": {},
   "source": [
    "<h4 style=\"font-size:24px; line-height:1.5; padding:5px;\">\n",
    "<b>Conduct a Normality Test using the Anderson-Darling test</b>\n",
    "</h4>"
   ]
  },
  {
   "cell_type": "code",
   "execution_count": 4,
   "id": "a54202cc-8db5-48e8-b4af-255640d932b9",
   "metadata": {},
   "outputs": [
    {
     "name": "stdout",
     "output_type": "stream",
     "text": [
      "Age 0-17: Anderson-Darling Statistic = 216.7720\n",
      "Age 0-17: Data does not follow a normal distribution (p < 0.05)\n",
      "Age 18-25: Anderson-Darling Statistic = 1640.1995\n",
      "Age 18-25: Data does not follow a normal distribution (p < 0.05)\n",
      "Age 26-35: Anderson-Darling Statistic = 3862.4819\n",
      "Age 26-35: Data does not follow a normal distribution (p < 0.05)\n",
      "Age 36-45: Anderson-Darling Statistic = 1801.2275\n",
      "Age 36-45: Data does not follow a normal distribution (p < 0.05)\n",
      "Age 46-50: Anderson-Darling Statistic = 771.3258\n",
      "Age 46-50: Data does not follow a normal distribution (p < 0.05)\n",
      "Age 51-55: Anderson-Darling Statistic = 652.0910\n",
      "Age 51-55: Data does not follow a normal distribution (p < 0.05)\n",
      "Age 55+: Anderson-Darling Statistic = 368.2460\n",
      "Age 55+: Data does not follow a normal distribution (p < 0.05)\n"
     ]
    }
   ],
   "source": [
    "from scipy.stats import anderson\n",
    "\n",
    "# Apply Anderson-Darling test for normality to each age group\n",
    "def test_anderson_normality(age_group_data, age_group_name):\n",
    "    result = anderson(age_group_data)\n",
    "    print(f\"{age_group_name}: Anderson-Darling Statistic = {result.statistic:.4f}\")\n",
    "    # Compare the statistic to the critical values for significance\n",
    "    if result.statistic < result.critical_values[2]:  # 5% significance level\n",
    "        print(f\"{age_group_name}: Data follows a normal distribution (p > 0.05)\")\n",
    "    else:\n",
    "        print(f\"{age_group_name}: Data does not follow a normal distribution (p < 0.05)\")\n",
    "\n",
    "# Run the test for each age group\n",
    "test_anderson_normality(Age_1_purchases, \"Age 0-17\")\n",
    "test_anderson_normality(Age_2_purchases, \"Age 18-25\")\n",
    "test_anderson_normality(Age_3_purchases, \"Age 26-35\")\n",
    "test_anderson_normality(Age_4_purchases, \"Age 36-45\")\n",
    "test_anderson_normality(Age_5_purchases, \"Age 46-50\")\n",
    "test_anderson_normality(Age_6_purchases, \"Age 51-55\")\n",
    "test_anderson_normality(Age_7_purchases, \"Age 55+\")"
   ]
  },
  {
   "cell_type": "markdown",
   "id": "31a545ad-098f-44f7-9d8f-8d143779e3b4",
   "metadata": {},
   "source": [
    "<h4 style=\"font-size:24px; line-height:1.5; padding:5px;\">\n",
    "<b>Since the data does not follow a normal distribution, we use a Nonparametric test (Kruskal-Wallis H test) to assess whether there is a statistically significant difference in the median purchase amounts across age groups.</b>\n",
    "</h4>"
   ]
  },
  {
   "cell_type": "code",
   "execution_count": 5,
   "id": "cfe60efd-e8a6-4879-b0f3-94471109ceff",
   "metadata": {},
   "outputs": [
    {
     "name": "stdout",
     "output_type": "stream",
     "text": [
      "Kruskal-Wallis H-statistic: 315.6524\n",
      "P-value: 0.0000\n",
      "There is a significant difference in purchase amounts between age groups.\n"
     ]
    }
   ],
   "source": [
    "from scipy.stats import kruskal\n",
    "\n",
    "# Perform Kruskal-Wallis test to compare the distributions of purchases across age groups\n",
    "stat, p_value = kruskal(\n",
    "    Age_1_purchases, \n",
    "    Age_2_purchases, \n",
    "    Age_3_purchases, \n",
    "    Age_4_purchases, \n",
    "    Age_5_purchases, \n",
    "    Age_6_purchases, \n",
    "    Age_7_purchases\n",
    ")\n",
    "\n",
    "# Print the result\n",
    "print(f\"Kruskal-Wallis H-statistic: {stat:.4f}\")\n",
    "print(f\"P-value: {p_value:.4f}\")\n",
    "\n",
    "# Interpret the result\n",
    "if p_value < 0.05:\n",
    "    print(\"There is a significant difference in purchase amounts between age groups.\")\n",
    "else:\n",
    "    print(\"There is no significant difference in purchase amounts between age groups.\")"
   ]
  },
  {
   "cell_type": "markdown",
   "id": "36a82d18-cb89-4c0b-b2a2-5efeca7f1af7",
   "metadata": {},
   "source": [
    "<h4 style=\"font-size:24px; line-height:1.5; padding:5px;\">\n",
    "<b>To identify which specific groups differ, we perform post-hoc tests. A commonly used post-hoc test after Kruskal-Wallis is Dunn's test, which compares each pair of groups while controlling for multiple comparisons.</b>\n",
    "</h4>"
   ]
  },
  {
   "cell_type": "code",
   "execution_count": 6,
   "id": "420c159a-897c-4893-b936-0e2be4b8aa3c",
   "metadata": {},
   "outputs": [
    {
     "data": {
      "image/png": "[encoded data removed]",
      "text/plain": [
       "<Figure size 1000x800 with 2 Axes>"
      ]
     },
     "metadata": {},
     "output_type": "display_data"
    },
    {
     "name": "stdout",
     "output_type": "stream",
     "text": [
      "              1             2             3             4             5  \\\n",
      "1  1.000000e+00  4.822696e-06  3.205389e-12  7.335133e-20  4.153425e-10   \n",
      "2  4.822696e-06  1.000000e+00  1.911628e-04  8.208873e-16  3.457340e-02   \n",
      "3  3.205389e-12  1.911628e-04  1.000000e+00  1.609026e-06  1.000000e+00   \n",
      "4  7.335133e-20  8.208873e-16  1.609026e-06  1.000000e+00  1.325949e-02   \n",
      "5  4.153425e-10  3.457340e-02  1.000000e+00  1.325949e-02  1.000000e+00   \n",
      "6  3.323871e-39  5.501099e-42  2.005849e-31  1.681316e-13  1.164196e-19   \n",
      "7  1.193778e-20  6.391663e-13  3.968869e-07  1.351086e-01  4.129139e-05   \n",
      "\n",
      "              6             7  \n",
      "1  3.323871e-39  1.193778e-20  \n",
      "2  5.501099e-42  6.391663e-13  \n",
      "3  2.005849e-31  3.968869e-07  \n",
      "4  1.681316e-13  1.351086e-01  \n",
      "5  1.164196e-19  4.129139e-05  \n",
      "6  1.000000e+00  5.374656e-02  \n",
      "7  5.374656e-02  1.000000e+00  \n"
     ]
    }
   ],
   "source": [
    "import scikit_posthocs as sp\n",
    "\n",
    "# Assuming your purchase data is already defined\n",
    "all_purchases = [Age_1_purchases, Age_2_purchases, Age_3_purchases, Age_4_purchases, \n",
    "                 Age_5_purchases, Age_6_purchases, Age_7_purchases]\n",
    "\n",
    "# Perform Dunn's post-hoc test\n",
    "posthoc = sp.posthoc_dunn(all_purchases, p_adjust='bonferroni')\n",
    "\n",
    "# Create a heatmap\n",
    "plt.figure(figsize=(10, 8))\n",
    "sns.heatmap(posthoc, annot=True, fmt=\".4f\", cmap=\"coolwarm\", cbar=True, \n",
    "            xticklabels=[\"0-17\", \"18-25\", \"26-35\", \"36-45\", \"46-50\", \"51-55\", \"55+\"],\n",
    "            yticklabels=[\"0-17\", \"18-25\", \"26-35\", \"36-45\", \"46-50\", \"51-55\", \"55+\"])\n",
    "\n",
    "# Add labels and title\n",
    "plt.title(\"Dunn's Post-hoc Test Results (Bonferroni Adjusted)\", fontsize=16)\n",
    "plt.xlabel(\"Age Groups\", fontsize=12)\n",
    "plt.ylabel(\"Age Groups\", fontsize=12)\n",
    "\n",
    "# Display the plot\n",
    "plt.show()\n",
    "\n",
    "print(posthoc)\n"
   ]
  }
 ],
 "metadata": {
  "kernelspec": {
   "display_name": "Python 3 (ipykernel)",
   "language": "python",
   "name": "python3"
  },
  "language_info": {
   "codemirror_mode": {
    "name": "ipython",
    "version": 3
   },
   "file_extension": ".py",
   "mimetype": "text/x-python",
   "name": "python",
   "nbconvert_exporter": "python",
   "pygments_lexer": "ipython3",
   "version": "3.11.7"
  }
 },
 "nbformat": 4,
 "nbformat_minor": 5
}
